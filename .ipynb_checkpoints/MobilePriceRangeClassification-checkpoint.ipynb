{
 "cells": [
  {
   "cell_type": "code",
   "execution_count": 1,
   "id": "mighty-physiology",
   "metadata": {},
   "outputs": [],
   "source": [
    "#Import all important library\n",
    "import seaborn as sns\n",
    "import matplotlib.pyplot as plt\n",
    "import os\n",
    "import pandas as pd\n",
    "import numpy as np\n",
    "from scipy.stats import chi2_contingency\n",
    "from sklearn.model_selection import train_test_split, cross_val_score\n",
    "from sklearn.metrics import accuracy_score, classification_report, precision_score, recall_score \n",
    "from sklearn.metrics import confusion_matrix, precision_recall_curve, roc_curve, auc, log_loss\n",
    "from sklearn.linear_model import LogisticRegression\n",
    "import matplotlib.pyplot as plt \n",
    "from sklearn.metrics import f1_score\n",
    "from sklearn.metrics import roc_auc_score\n",
    "from sklearn.metrics import confusion_matrix"
   ]
  },
  {
   "cell_type": "code",
   "execution_count": 2,
   "id": "cathedral-creator",
   "metadata": {},
   "outputs": [],
   "source": [
    "from numpy import mean\n",
    "from numpy import std\n",
    "from sklearn.datasets import make_classification\n",
    "from sklearn.model_selection import KFold\n",
    "from sklearn.model_selection import cross_val_score"
   ]
  },
  {
   "cell_type": "code",
   "execution_count": 3,
   "id": "funded-faith",
   "metadata": {},
   "outputs": [],
   "source": [
    "# Load housing data\n",
    "TrainData = pd.read_csv(\"Mobile.csv\")"
   ]
  },
  {
   "cell_type": "markdown",
   "id": "social-awareness",
   "metadata": {},
   "source": [
    "Explore dataset "
   ]
  },
  {
   "cell_type": "code",
   "execution_count": 4,
   "id": "former-temple",
   "metadata": {},
   "outputs": [
    {
     "data": {
      "text/html": [
       "<div>\n",
       "<style scoped>\n",
       "    .dataframe tbody tr th:only-of-type {\n",
       "        vertical-align: middle;\n",
       "    }\n",
       "\n",
       "    .dataframe tbody tr th {\n",
       "        vertical-align: top;\n",
       "    }\n",
       "\n",
       "    .dataframe thead th {\n",
       "        text-align: right;\n",
       "    }\n",
       "</style>\n",
       "<table border=\"1\" class=\"dataframe\">\n",
       "  <thead>\n",
       "    <tr style=\"text-align: right;\">\n",
       "      <th></th>\n",
       "      <th>battery_power</th>\n",
       "      <th>blue</th>\n",
       "      <th>clock_speed</th>\n",
       "      <th>dual_sim</th>\n",
       "      <th>fc</th>\n",
       "      <th>four_g</th>\n",
       "      <th>int_memory</th>\n",
       "      <th>m_dep</th>\n",
       "      <th>mobile_wt</th>\n",
       "      <th>n_cores</th>\n",
       "      <th>...</th>\n",
       "      <th>px_height</th>\n",
       "      <th>px_width</th>\n",
       "      <th>ram</th>\n",
       "      <th>sc_h</th>\n",
       "      <th>sc_w</th>\n",
       "      <th>talk_time</th>\n",
       "      <th>three_g</th>\n",
       "      <th>touch_screen</th>\n",
       "      <th>wifi</th>\n",
       "      <th>price_range</th>\n",
       "    </tr>\n",
       "  </thead>\n",
       "  <tbody>\n",
       "    <tr>\n",
       "      <th>0</th>\n",
       "      <td>842</td>\n",
       "      <td>0</td>\n",
       "      <td>2.2</td>\n",
       "      <td>0</td>\n",
       "      <td>1</td>\n",
       "      <td>0</td>\n",
       "      <td>7</td>\n",
       "      <td>0.6</td>\n",
       "      <td>188</td>\n",
       "      <td>2</td>\n",
       "      <td>...</td>\n",
       "      <td>20</td>\n",
       "      <td>756</td>\n",
       "      <td>2549</td>\n",
       "      <td>9</td>\n",
       "      <td>7</td>\n",
       "      <td>19</td>\n",
       "      <td>0</td>\n",
       "      <td>0</td>\n",
       "      <td>1</td>\n",
       "      <td>1</td>\n",
       "    </tr>\n",
       "    <tr>\n",
       "      <th>1</th>\n",
       "      <td>1021</td>\n",
       "      <td>1</td>\n",
       "      <td>0.5</td>\n",
       "      <td>1</td>\n",
       "      <td>0</td>\n",
       "      <td>1</td>\n",
       "      <td>53</td>\n",
       "      <td>0.7</td>\n",
       "      <td>136</td>\n",
       "      <td>3</td>\n",
       "      <td>...</td>\n",
       "      <td>905</td>\n",
       "      <td>1988</td>\n",
       "      <td>2631</td>\n",
       "      <td>17</td>\n",
       "      <td>3</td>\n",
       "      <td>7</td>\n",
       "      <td>1</td>\n",
       "      <td>1</td>\n",
       "      <td>0</td>\n",
       "      <td>2</td>\n",
       "    </tr>\n",
       "    <tr>\n",
       "      <th>2</th>\n",
       "      <td>563</td>\n",
       "      <td>1</td>\n",
       "      <td>0.5</td>\n",
       "      <td>1</td>\n",
       "      <td>2</td>\n",
       "      <td>1</td>\n",
       "      <td>41</td>\n",
       "      <td>0.9</td>\n",
       "      <td>145</td>\n",
       "      <td>5</td>\n",
       "      <td>...</td>\n",
       "      <td>1263</td>\n",
       "      <td>1716</td>\n",
       "      <td>2603</td>\n",
       "      <td>11</td>\n",
       "      <td>2</td>\n",
       "      <td>9</td>\n",
       "      <td>1</td>\n",
       "      <td>1</td>\n",
       "      <td>0</td>\n",
       "      <td>2</td>\n",
       "    </tr>\n",
       "    <tr>\n",
       "      <th>3</th>\n",
       "      <td>615</td>\n",
       "      <td>1</td>\n",
       "      <td>2.5</td>\n",
       "      <td>0</td>\n",
       "      <td>0</td>\n",
       "      <td>0</td>\n",
       "      <td>10</td>\n",
       "      <td>0.8</td>\n",
       "      <td>131</td>\n",
       "      <td>6</td>\n",
       "      <td>...</td>\n",
       "      <td>1216</td>\n",
       "      <td>1786</td>\n",
       "      <td>2769</td>\n",
       "      <td>16</td>\n",
       "      <td>8</td>\n",
       "      <td>11</td>\n",
       "      <td>1</td>\n",
       "      <td>0</td>\n",
       "      <td>0</td>\n",
       "      <td>2</td>\n",
       "    </tr>\n",
       "    <tr>\n",
       "      <th>4</th>\n",
       "      <td>1821</td>\n",
       "      <td>1</td>\n",
       "      <td>1.2</td>\n",
       "      <td>0</td>\n",
       "      <td>13</td>\n",
       "      <td>1</td>\n",
       "      <td>44</td>\n",
       "      <td>0.6</td>\n",
       "      <td>141</td>\n",
       "      <td>2</td>\n",
       "      <td>...</td>\n",
       "      <td>1208</td>\n",
       "      <td>1212</td>\n",
       "      <td>1411</td>\n",
       "      <td>8</td>\n",
       "      <td>2</td>\n",
       "      <td>15</td>\n",
       "      <td>1</td>\n",
       "      <td>1</td>\n",
       "      <td>0</td>\n",
       "      <td>1</td>\n",
       "    </tr>\n",
       "  </tbody>\n",
       "</table>\n",
       "<p>5 rows × 21 columns</p>\n",
       "</div>"
      ],
      "text/plain": [
       "   battery_power  blue  clock_speed  dual_sim  fc  four_g  int_memory  m_dep  \\\n",
       "0            842     0          2.2         0   1       0           7    0.6   \n",
       "1           1021     1          0.5         1   0       1          53    0.7   \n",
       "2            563     1          0.5         1   2       1          41    0.9   \n",
       "3            615     1          2.5         0   0       0          10    0.8   \n",
       "4           1821     1          1.2         0  13       1          44    0.6   \n",
       "\n",
       "   mobile_wt  n_cores  ...  px_height  px_width   ram  sc_h  sc_w  talk_time  \\\n",
       "0        188        2  ...         20       756  2549     9     7         19   \n",
       "1        136        3  ...        905      1988  2631    17     3          7   \n",
       "2        145        5  ...       1263      1716  2603    11     2          9   \n",
       "3        131        6  ...       1216      1786  2769    16     8         11   \n",
       "4        141        2  ...       1208      1212  1411     8     2         15   \n",
       "\n",
       "   three_g  touch_screen  wifi  price_range  \n",
       "0        0             0     1            1  \n",
       "1        1             1     0            2  \n",
       "2        1             1     0            2  \n",
       "3        1             0     0            2  \n",
       "4        1             1     0            1  \n",
       "\n",
       "[5 rows x 21 columns]"
      ]
     },
     "execution_count": 4,
     "metadata": {},
     "output_type": "execute_result"
    }
   ],
   "source": [
    "TrainData.head(5)"
   ]
  },
  {
   "cell_type": "code",
   "execution_count": 5,
   "id": "blocked-essex",
   "metadata": {},
   "outputs": [
    {
     "data": {
      "text/plain": [
       "(2000, 21)"
      ]
     },
     "execution_count": 5,
     "metadata": {},
     "output_type": "execute_result"
    }
   ],
   "source": [
    "TrainData.shape"
   ]
  },
  {
   "cell_type": "code",
   "execution_count": 6,
   "id": "happy-beijing",
   "metadata": {},
   "outputs": [
    {
     "data": {
      "text/plain": [
       "Index(['battery_power', 'blue', 'clock_speed', 'dual_sim', 'fc', 'four_g',\n",
       "       'int_memory', 'm_dep', 'mobile_wt', 'n_cores', 'pc', 'px_height',\n",
       "       'px_width', 'ram', 'sc_h', 'sc_w', 'talk_time', 'three_g',\n",
       "       'touch_screen', 'wifi', 'price_range'],\n",
       "      dtype='object')"
      ]
     },
     "execution_count": 6,
     "metadata": {},
     "output_type": "execute_result"
    }
   ],
   "source": [
    "TrainData.columns"
   ]
  },
  {
   "cell_type": "code",
   "execution_count": 7,
   "id": "hearing-antibody",
   "metadata": {},
   "outputs": [
    {
     "data": {
      "text/plain": [
       "battery_power      int64\n",
       "blue               int64\n",
       "clock_speed      float64\n",
       "dual_sim           int64\n",
       "fc                 int64\n",
       "four_g             int64\n",
       "int_memory         int64\n",
       "m_dep            float64\n",
       "mobile_wt          int64\n",
       "n_cores            int64\n",
       "pc                 int64\n",
       "px_height          int64\n",
       "px_width           int64\n",
       "ram                int64\n",
       "sc_h               int64\n",
       "sc_w               int64\n",
       "talk_time          int64\n",
       "three_g            int64\n",
       "touch_screen       int64\n",
       "wifi               int64\n",
       "price_range        int64\n",
       "dtype: object"
      ]
     },
     "execution_count": 7,
     "metadata": {},
     "output_type": "execute_result"
    }
   ],
   "source": [
    "TrainData.dtypes"
   ]
  },
  {
   "cell_type": "code",
   "execution_count": 8,
   "id": "union-graduation",
   "metadata": {},
   "outputs": [
    {
     "data": {
      "text/html": [
       "<div>\n",
       "<style scoped>\n",
       "    .dataframe tbody tr th:only-of-type {\n",
       "        vertical-align: middle;\n",
       "    }\n",
       "\n",
       "    .dataframe tbody tr th {\n",
       "        vertical-align: top;\n",
       "    }\n",
       "\n",
       "    .dataframe thead th {\n",
       "        text-align: right;\n",
       "    }\n",
       "</style>\n",
       "<table border=\"1\" class=\"dataframe\">\n",
       "  <thead>\n",
       "    <tr style=\"text-align: right;\">\n",
       "      <th></th>\n",
       "      <th>battery_power</th>\n",
       "      <th>blue</th>\n",
       "      <th>clock_speed</th>\n",
       "      <th>dual_sim</th>\n",
       "      <th>fc</th>\n",
       "      <th>four_g</th>\n",
       "      <th>int_memory</th>\n",
       "      <th>m_dep</th>\n",
       "      <th>mobile_wt</th>\n",
       "      <th>n_cores</th>\n",
       "      <th>...</th>\n",
       "      <th>px_height</th>\n",
       "      <th>px_width</th>\n",
       "      <th>ram</th>\n",
       "      <th>sc_h</th>\n",
       "      <th>sc_w</th>\n",
       "      <th>talk_time</th>\n",
       "      <th>three_g</th>\n",
       "      <th>touch_screen</th>\n",
       "      <th>wifi</th>\n",
       "      <th>price_range</th>\n",
       "    </tr>\n",
       "  </thead>\n",
       "  <tbody>\n",
       "    <tr>\n",
       "      <th>count</th>\n",
       "      <td>2000.000000</td>\n",
       "      <td>2000.0000</td>\n",
       "      <td>2000.000000</td>\n",
       "      <td>2000.000000</td>\n",
       "      <td>2000.000000</td>\n",
       "      <td>2000.000000</td>\n",
       "      <td>2000.000000</td>\n",
       "      <td>2000.000000</td>\n",
       "      <td>2000.000000</td>\n",
       "      <td>2000.000000</td>\n",
       "      <td>...</td>\n",
       "      <td>2000.000000</td>\n",
       "      <td>2000.000000</td>\n",
       "      <td>2000.000000</td>\n",
       "      <td>2000.000000</td>\n",
       "      <td>2000.000000</td>\n",
       "      <td>2000.000000</td>\n",
       "      <td>2000.000000</td>\n",
       "      <td>2000.000000</td>\n",
       "      <td>2000.000000</td>\n",
       "      <td>2000.000000</td>\n",
       "    </tr>\n",
       "    <tr>\n",
       "      <th>mean</th>\n",
       "      <td>1238.518500</td>\n",
       "      <td>0.4950</td>\n",
       "      <td>1.522250</td>\n",
       "      <td>0.509500</td>\n",
       "      <td>4.309500</td>\n",
       "      <td>0.521500</td>\n",
       "      <td>32.046500</td>\n",
       "      <td>0.501750</td>\n",
       "      <td>140.249000</td>\n",
       "      <td>4.520500</td>\n",
       "      <td>...</td>\n",
       "      <td>645.108000</td>\n",
       "      <td>1251.515500</td>\n",
       "      <td>2124.213000</td>\n",
       "      <td>12.306500</td>\n",
       "      <td>5.767000</td>\n",
       "      <td>11.011000</td>\n",
       "      <td>0.761500</td>\n",
       "      <td>0.503000</td>\n",
       "      <td>0.507000</td>\n",
       "      <td>1.500000</td>\n",
       "    </tr>\n",
       "    <tr>\n",
       "      <th>std</th>\n",
       "      <td>439.418206</td>\n",
       "      <td>0.5001</td>\n",
       "      <td>0.816004</td>\n",
       "      <td>0.500035</td>\n",
       "      <td>4.341444</td>\n",
       "      <td>0.499662</td>\n",
       "      <td>18.145715</td>\n",
       "      <td>0.288416</td>\n",
       "      <td>35.399655</td>\n",
       "      <td>2.287837</td>\n",
       "      <td>...</td>\n",
       "      <td>443.780811</td>\n",
       "      <td>432.199447</td>\n",
       "      <td>1084.732044</td>\n",
       "      <td>4.213245</td>\n",
       "      <td>4.356398</td>\n",
       "      <td>5.463955</td>\n",
       "      <td>0.426273</td>\n",
       "      <td>0.500116</td>\n",
       "      <td>0.500076</td>\n",
       "      <td>1.118314</td>\n",
       "    </tr>\n",
       "    <tr>\n",
       "      <th>min</th>\n",
       "      <td>501.000000</td>\n",
       "      <td>0.0000</td>\n",
       "      <td>0.500000</td>\n",
       "      <td>0.000000</td>\n",
       "      <td>0.000000</td>\n",
       "      <td>0.000000</td>\n",
       "      <td>2.000000</td>\n",
       "      <td>0.100000</td>\n",
       "      <td>80.000000</td>\n",
       "      <td>1.000000</td>\n",
       "      <td>...</td>\n",
       "      <td>0.000000</td>\n",
       "      <td>500.000000</td>\n",
       "      <td>256.000000</td>\n",
       "      <td>5.000000</td>\n",
       "      <td>0.000000</td>\n",
       "      <td>2.000000</td>\n",
       "      <td>0.000000</td>\n",
       "      <td>0.000000</td>\n",
       "      <td>0.000000</td>\n",
       "      <td>0.000000</td>\n",
       "    </tr>\n",
       "    <tr>\n",
       "      <th>25%</th>\n",
       "      <td>851.750000</td>\n",
       "      <td>0.0000</td>\n",
       "      <td>0.700000</td>\n",
       "      <td>0.000000</td>\n",
       "      <td>1.000000</td>\n",
       "      <td>0.000000</td>\n",
       "      <td>16.000000</td>\n",
       "      <td>0.200000</td>\n",
       "      <td>109.000000</td>\n",
       "      <td>3.000000</td>\n",
       "      <td>...</td>\n",
       "      <td>282.750000</td>\n",
       "      <td>874.750000</td>\n",
       "      <td>1207.500000</td>\n",
       "      <td>9.000000</td>\n",
       "      <td>2.000000</td>\n",
       "      <td>6.000000</td>\n",
       "      <td>1.000000</td>\n",
       "      <td>0.000000</td>\n",
       "      <td>0.000000</td>\n",
       "      <td>0.750000</td>\n",
       "    </tr>\n",
       "    <tr>\n",
       "      <th>50%</th>\n",
       "      <td>1226.000000</td>\n",
       "      <td>0.0000</td>\n",
       "      <td>1.500000</td>\n",
       "      <td>1.000000</td>\n",
       "      <td>3.000000</td>\n",
       "      <td>1.000000</td>\n",
       "      <td>32.000000</td>\n",
       "      <td>0.500000</td>\n",
       "      <td>141.000000</td>\n",
       "      <td>4.000000</td>\n",
       "      <td>...</td>\n",
       "      <td>564.000000</td>\n",
       "      <td>1247.000000</td>\n",
       "      <td>2146.500000</td>\n",
       "      <td>12.000000</td>\n",
       "      <td>5.000000</td>\n",
       "      <td>11.000000</td>\n",
       "      <td>1.000000</td>\n",
       "      <td>1.000000</td>\n",
       "      <td>1.000000</td>\n",
       "      <td>1.500000</td>\n",
       "    </tr>\n",
       "    <tr>\n",
       "      <th>75%</th>\n",
       "      <td>1615.250000</td>\n",
       "      <td>1.0000</td>\n",
       "      <td>2.200000</td>\n",
       "      <td>1.000000</td>\n",
       "      <td>7.000000</td>\n",
       "      <td>1.000000</td>\n",
       "      <td>48.000000</td>\n",
       "      <td>0.800000</td>\n",
       "      <td>170.000000</td>\n",
       "      <td>7.000000</td>\n",
       "      <td>...</td>\n",
       "      <td>947.250000</td>\n",
       "      <td>1633.000000</td>\n",
       "      <td>3064.500000</td>\n",
       "      <td>16.000000</td>\n",
       "      <td>9.000000</td>\n",
       "      <td>16.000000</td>\n",
       "      <td>1.000000</td>\n",
       "      <td>1.000000</td>\n",
       "      <td>1.000000</td>\n",
       "      <td>2.250000</td>\n",
       "    </tr>\n",
       "    <tr>\n",
       "      <th>max</th>\n",
       "      <td>1998.000000</td>\n",
       "      <td>1.0000</td>\n",
       "      <td>3.000000</td>\n",
       "      <td>1.000000</td>\n",
       "      <td>19.000000</td>\n",
       "      <td>1.000000</td>\n",
       "      <td>64.000000</td>\n",
       "      <td>1.000000</td>\n",
       "      <td>200.000000</td>\n",
       "      <td>8.000000</td>\n",
       "      <td>...</td>\n",
       "      <td>1960.000000</td>\n",
       "      <td>1998.000000</td>\n",
       "      <td>3998.000000</td>\n",
       "      <td>19.000000</td>\n",
       "      <td>18.000000</td>\n",
       "      <td>20.000000</td>\n",
       "      <td>1.000000</td>\n",
       "      <td>1.000000</td>\n",
       "      <td>1.000000</td>\n",
       "      <td>3.000000</td>\n",
       "    </tr>\n",
       "  </tbody>\n",
       "</table>\n",
       "<p>8 rows × 21 columns</p>\n",
       "</div>"
      ],
      "text/plain": [
       "       battery_power       blue  clock_speed     dual_sim           fc  \\\n",
       "count    2000.000000  2000.0000  2000.000000  2000.000000  2000.000000   \n",
       "mean     1238.518500     0.4950     1.522250     0.509500     4.309500   \n",
       "std       439.418206     0.5001     0.816004     0.500035     4.341444   \n",
       "min       501.000000     0.0000     0.500000     0.000000     0.000000   \n",
       "25%       851.750000     0.0000     0.700000     0.000000     1.000000   \n",
       "50%      1226.000000     0.0000     1.500000     1.000000     3.000000   \n",
       "75%      1615.250000     1.0000     2.200000     1.000000     7.000000   \n",
       "max      1998.000000     1.0000     3.000000     1.000000    19.000000   \n",
       "\n",
       "            four_g   int_memory        m_dep    mobile_wt      n_cores  ...  \\\n",
       "count  2000.000000  2000.000000  2000.000000  2000.000000  2000.000000  ...   \n",
       "mean      0.521500    32.046500     0.501750   140.249000     4.520500  ...   \n",
       "std       0.499662    18.145715     0.288416    35.399655     2.287837  ...   \n",
       "min       0.000000     2.000000     0.100000    80.000000     1.000000  ...   \n",
       "25%       0.000000    16.000000     0.200000   109.000000     3.000000  ...   \n",
       "50%       1.000000    32.000000     0.500000   141.000000     4.000000  ...   \n",
       "75%       1.000000    48.000000     0.800000   170.000000     7.000000  ...   \n",
       "max       1.000000    64.000000     1.000000   200.000000     8.000000  ...   \n",
       "\n",
       "         px_height     px_width          ram         sc_h         sc_w  \\\n",
       "count  2000.000000  2000.000000  2000.000000  2000.000000  2000.000000   \n",
       "mean    645.108000  1251.515500  2124.213000    12.306500     5.767000   \n",
       "std     443.780811   432.199447  1084.732044     4.213245     4.356398   \n",
       "min       0.000000   500.000000   256.000000     5.000000     0.000000   \n",
       "25%     282.750000   874.750000  1207.500000     9.000000     2.000000   \n",
       "50%     564.000000  1247.000000  2146.500000    12.000000     5.000000   \n",
       "75%     947.250000  1633.000000  3064.500000    16.000000     9.000000   \n",
       "max    1960.000000  1998.000000  3998.000000    19.000000    18.000000   \n",
       "\n",
       "         talk_time      three_g  touch_screen         wifi  price_range  \n",
       "count  2000.000000  2000.000000   2000.000000  2000.000000  2000.000000  \n",
       "mean     11.011000     0.761500      0.503000     0.507000     1.500000  \n",
       "std       5.463955     0.426273      0.500116     0.500076     1.118314  \n",
       "min       2.000000     0.000000      0.000000     0.000000     0.000000  \n",
       "25%       6.000000     1.000000      0.000000     0.000000     0.750000  \n",
       "50%      11.000000     1.000000      1.000000     1.000000     1.500000  \n",
       "75%      16.000000     1.000000      1.000000     1.000000     2.250000  \n",
       "max      20.000000     1.000000      1.000000     1.000000     3.000000  \n",
       "\n",
       "[8 rows x 21 columns]"
      ]
     },
     "execution_count": 8,
     "metadata": {},
     "output_type": "execute_result"
    }
   ],
   "source": [
    "TrainData.describe()"
   ]
  },
  {
   "cell_type": "markdown",
   "id": "committed-standing",
   "metadata": {},
   "source": [
    "Find any missing value"
   ]
  },
  {
   "cell_type": "code",
   "execution_count": 9,
   "id": "inside-alfred",
   "metadata": {},
   "outputs": [
    {
     "data": {
      "text/plain": [
       "battery_power    0\n",
       "blue             0\n",
       "clock_speed      0\n",
       "dual_sim         0\n",
       "fc               0\n",
       "four_g           0\n",
       "int_memory       0\n",
       "m_dep            0\n",
       "mobile_wt        0\n",
       "n_cores          0\n",
       "pc               0\n",
       "px_height        0\n",
       "px_width         0\n",
       "ram              0\n",
       "sc_h             0\n",
       "sc_w             0\n",
       "talk_time        0\n",
       "three_g          0\n",
       "touch_screen     0\n",
       "wifi             0\n",
       "price_range      0\n",
       "dtype: int64"
      ]
     },
     "execution_count": 9,
     "metadata": {},
     "output_type": "execute_result"
    }
   ],
   "source": [
    "TrainData.isnull().sum()"
   ]
  },
  {
   "cell_type": "markdown",
   "id": "minimal-courtesy",
   "metadata": {},
   "source": [
    "Explore column wise data"
   ]
  },
  {
   "cell_type": "code",
   "execution_count": 10,
   "id": "spatial-lotus",
   "metadata": {},
   "outputs": [],
   "source": [
    "counts=TrainData[\"price_range\"].value_counts()"
   ]
  },
  {
   "cell_type": "code",
   "execution_count": 11,
   "id": "industrial-jimmy",
   "metadata": {
    "scrolled": true
   },
   "outputs": [
    {
     "data": {
      "text/html": [
       "<div>\n",
       "<style scoped>\n",
       "    .dataframe tbody tr th:only-of-type {\n",
       "        vertical-align: middle;\n",
       "    }\n",
       "\n",
       "    .dataframe tbody tr th {\n",
       "        vertical-align: top;\n",
       "    }\n",
       "\n",
       "    .dataframe thead th {\n",
       "        text-align: right;\n",
       "    }\n",
       "</style>\n",
       "<table border=\"1\" class=\"dataframe\">\n",
       "  <thead>\n",
       "    <tr style=\"text-align: right;\">\n",
       "      <th></th>\n",
       "      <th>counts price_range</th>\n",
       "      <th>percent</th>\n",
       "    </tr>\n",
       "  </thead>\n",
       "  <tbody>\n",
       "    <tr>\n",
       "      <th>3</th>\n",
       "      <td>500</td>\n",
       "      <td>25.0%</td>\n",
       "    </tr>\n",
       "    <tr>\n",
       "      <th>2</th>\n",
       "      <td>500</td>\n",
       "      <td>25.0%</td>\n",
       "    </tr>\n",
       "    <tr>\n",
       "      <th>1</th>\n",
       "      <td>500</td>\n",
       "      <td>25.0%</td>\n",
       "    </tr>\n",
       "    <tr>\n",
       "      <th>0</th>\n",
       "      <td>500</td>\n",
       "      <td>25.0%</td>\n",
       "    </tr>\n",
       "  </tbody>\n",
       "</table>\n",
       "</div>"
      ],
      "text/plain": [
       "   counts price_range percent\n",
       "3                 500   25.0%\n",
       "2                 500   25.0%\n",
       "1                 500   25.0%\n",
       "0                 500   25.0%"
      ]
     },
     "execution_count": 11,
     "metadata": {},
     "output_type": "execute_result"
    }
   ],
   "source": [
    "percent100 = TrainData[\"price_range\"].value_counts(normalize=True).mul(100).round(1).astype(str) + '%'\n",
    "pd.DataFrame({'counts price_range': counts, 'percent': percent100})"
   ]
  },
  {
   "cell_type": "code",
   "execution_count": 12,
   "id": "geological-southeast",
   "metadata": {},
   "outputs": [
    {
     "data": {
      "text/plain": [
       "<AxesSubplot:title={'center':'count (price range)'}>"
      ]
     },
     "execution_count": 12,
     "metadata": {},
     "output_type": "execute_result"
    },
    {
     "data": {
      "image/png": "[encoded data removed]",
      "text/plain": [
       "<Figure size 432x288 with 1 Axes>"
      ]
     },
     "metadata": {
      "needs_background": "light"
     },
     "output_type": "display_data"
    }
   ],
   "source": [
    "TrainData['price_range'].value_counts().plot(kind='bar', title='count (price range)')"
   ]
  },
  {
   "cell_type": "markdown",
   "id": "collaborative-invalid",
   "metadata": {},
   "source": [
    "Data is balance data"
   ]
  },
  {
   "cell_type": "markdown",
   "id": "ordered-subject",
   "metadata": {},
   "source": [
    "Lets explore relationship between battery power and price range"
   ]
  },
  {
   "cell_type": "code",
   "execution_count": 13,
   "id": "oriented-trout",
   "metadata": {},
   "outputs": [
    {
     "data": {
      "text/plain": [
       "<AxesSubplot:ylabel='battery_power'>"
      ]
     },
     "execution_count": 13,
     "metadata": {},
     "output_type": "execute_result"
    },
    {
     "data": {
      "image/png": "[encoded data removed]",
      "text/plain": [
       "<Figure size 432x288 with 1 Axes>"
      ]
     },
     "metadata": {
      "needs_background": "light"
     },
     "output_type": "display_data"
    }
   ],
   "source": [
    "sns.boxplot(y=TrainData[\"battery_power\"])"
   ]
  },
  {
   "cell_type": "code",
   "execution_count": 14,
   "id": "welsh-custody",
   "metadata": {},
   "outputs": [
    {
     "data": {
      "text/plain": [
       "<AxesSubplot:xlabel='price_range', ylabel='battery_power'>"
      ]
     },
     "execution_count": 14,
     "metadata": {},
     "output_type": "execute_result"
    },
    {
     "data": {
      "image/png": "[encoded data removed]",
      "text/plain": [
       "<Figure size 432x288 with 1 Axes>"
      ]
     },
     "metadata": {
      "needs_background": "light"
     },
     "output_type": "display_data"
    }
   ],
   "source": [
    "sns.boxplot(x=\"price_range\", y=\"battery_power\", data=TrainData)"
   ]
  },
  {
   "cell_type": "markdown",
   "id": "dress-wagon",
   "metadata": {},
   "source": [
    "check data is from normal distribution"
   ]
  },
  {
   "cell_type": "code",
   "execution_count": 15,
   "id": "challenging-orlando",
   "metadata": {},
   "outputs": [
    {
     "name": "stdout",
     "output_type": "stream",
     "text": [
      "0.03189847179278164\n"
     ]
    }
   ],
   "source": [
    "print(TrainData['battery_power'].skew())"
   ]
  },
  {
   "cell_type": "markdown",
   "id": "immune-tourist",
   "metadata": {},
   "source": [
    "it is belonging to normal distribution apply anova on battery power and price range"
   ]
  },
  {
   "cell_type": "code",
   "execution_count": 16,
   "id": "adjusted-short",
   "metadata": {},
   "outputs": [
    {
     "name": "stdout",
     "output_type": "stream",
     "text": [
      "                   sum_sq      df          F        PR(>F)\n",
      "price_range  1.555111e+07     1.0  83.877962  1.264854e-19\n",
      "Residual     3.704325e+08  1998.0        NaN           NaN\n"
     ]
    }
   ],
   "source": [
    "import statsmodels.api as sm\n",
    "from statsmodels.formula.api import ols\n",
    "\n",
    "mod = ols('battery_power ~ price_range',\n",
    "                data=TrainData).fit()\n",
    "                \n",
    "aov_table = sm.stats.anova_lm(mod, typ=2)\n",
    "print(aov_table)"
   ]
  },
  {
   "cell_type": "markdown",
   "id": "unlimited-aurora",
   "metadata": {},
   "source": [
    "from anova test between price range and battery power pvalue is less than 0.05 means battery power with respect to price range shows significant difference."
   ]
  },
  {
   "cell_type": "code",
   "execution_count": 17,
   "id": "configured-binary",
   "metadata": {},
   "outputs": [
    {
     "data": {
      "text/plain": [
       "<AxesSubplot:title={'center':'count (blue)'}>"
      ]
     },
     "execution_count": 17,
     "metadata": {},
     "output_type": "execute_result"
    },
    {
     "data": {
      "image/png": "[encoded data removed]",
      "text/plain": [
       "<Figure size 432x288 with 1 Axes>"
      ]
     },
     "metadata": {
      "needs_background": "light"
     },
     "output_type": "display_data"
    }
   ],
   "source": [
    "TrainData['blue'].value_counts().plot(kind='bar', title='count (blue)')"
   ]
  },
  {
   "cell_type": "code",
   "execution_count": 18,
   "id": "numerical-fundamentals",
   "metadata": {},
   "outputs": [
    {
     "name": "stdout",
     "output_type": "stream",
     "text": [
      "Pvalue 0.6980177809451273\n"
     ]
    }
   ],
   "source": [
    "contigency= pd.crosstab(TrainData['blue'], TrainData['price_range'])\n",
    "contigency\n",
    "c, p, dof, expected = chi2_contingency(contigency)\n",
    "print('Pvalue',p)"
   ]
  },
  {
   "cell_type": "markdown",
   "id": "physical-dutch",
   "metadata": {},
   "source": [
    "The p-value is 69.80% which means that we do not reject the null hypothesis at 95% level of confidence. The null hypothesis was that bluetooth and price are independent."
   ]
  },
  {
   "cell_type": "markdown",
   "id": "muslim-perry",
   "metadata": {},
   "source": [
    "Lets find for clock_speed and price range"
   ]
  },
  {
   "cell_type": "code",
   "execution_count": 19,
   "id": "metric-coach",
   "metadata": {},
   "outputs": [
    {
     "data": {
      "text/plain": [
       "<AxesSubplot:ylabel='clock_speed'>"
      ]
     },
     "execution_count": 19,
     "metadata": {},
     "output_type": "execute_result"
    },
    {
     "data": {
      "image/png": "[encoded data removed]",
      "text/plain": [
       "<Figure size 432x288 with 1 Axes>"
      ]
     },
     "metadata": {
      "needs_background": "light"
     },
     "output_type": "display_data"
    }
   ],
   "source": [
    "sns.boxplot(y=TrainData[\"clock_speed\"])"
   ]
  },
  {
   "cell_type": "code",
   "execution_count": 20,
   "id": "understanding-nature",
   "metadata": {},
   "outputs": [
    {
     "data": {
      "text/plain": [
       "<AxesSubplot:xlabel='price_range', ylabel='clock_speed'>"
      ]
     },
     "execution_count": 20,
     "metadata": {},
     "output_type": "execute_result"
    },
    {
     "data": {
      "image/png": "[encoded data removed]",
      "text/plain": [
       "<Figure size 432x288 with 1 Axes>"
      ]
     },
     "metadata": {
      "needs_background": "light"
     },
     "output_type": "display_data"
    }
   ],
   "source": [
    "sns.boxplot(x=\"price_range\", y=\"clock_speed\", data=TrainData)"
   ]
  },
  {
   "cell_type": "code",
   "execution_count": 21,
   "id": "caring-convert",
   "metadata": {},
   "outputs": [
    {
     "name": "stdout",
     "output_type": "stream",
     "text": [
      "0.1780841202790887\n"
     ]
    }
   ],
   "source": [
    "print(TrainData['clock_speed'].skew())"
   ]
  },
  {
   "cell_type": "code",
   "execution_count": 22,
   "id": "reported-december",
   "metadata": {},
   "outputs": [],
   "source": [
    "TrainData['clock_speed_sqrt'] = np.sqrt(TrainData['clock_speed'])"
   ]
  },
  {
   "cell_type": "code",
   "execution_count": 23,
   "id": "related-program",
   "metadata": {},
   "outputs": [
    {
     "name": "stdout",
     "output_type": "stream",
     "text": [
      "-0.08894300716253523\n"
     ]
    }
   ],
   "source": [
    "print(TrainData['clock_speed_sqrt'].skew())"
   ]
  },
  {
   "cell_type": "code",
   "execution_count": 24,
   "id": "obvious-letters",
   "metadata": {},
   "outputs": [
    {
     "data": {
      "text/plain": [
       "<AxesSubplot:ylabel='clock_speed_sqrt'>"
      ]
     },
     "execution_count": 24,
     "metadata": {},
     "output_type": "execute_result"
    },
    {
     "data": {
      "image/png": "[encoded data removed]",
      "text/plain": [
       "<Figure size 432x288 with 1 Axes>"
      ]
     },
     "metadata": {
      "needs_background": "light"
     },
     "output_type": "display_data"
    }
   ],
   "source": [
    "sns.boxplot(y=TrainData[\"clock_speed_sqrt\"])"
   ]
  },
  {
   "cell_type": "code",
   "execution_count": 25,
   "id": "cardiovascular-aruba",
   "metadata": {},
   "outputs": [
    {
     "name": "stdout",
     "output_type": "stream",
     "text": [
      "                 sum_sq      df         F    PR(>F)\n",
      "price_range    0.000017     1.0  0.000145  0.990388\n",
      "Residual     240.523027  1998.0       NaN       NaN\n"
     ]
    }
   ],
   "source": [
    "import statsmodels.api as sm\n",
    "from statsmodels.formula.api import ols\n",
    "\n",
    "mod = ols('clock_speed_sqrt ~ price_range',\n",
    "                data=TrainData).fit()\n",
    "                \n",
    "aov_table = sm.stats.anova_lm(mod, typ=2)\n",
    "print(aov_table)"
   ]
  },
  {
   "cell_type": "markdown",
   "id": "coordinated-dream",
   "metadata": {},
   "source": [
    "from anova test between price range and clock speed pvalue is not less than 0.05 means clock speed with respect to price range does not shows significant difference."
   ]
  },
  {
   "cell_type": "code",
   "execution_count": 26,
   "id": "optional-mason",
   "metadata": {},
   "outputs": [
    {
     "data": {
      "text/plain": [
       "<AxesSubplot:title={'center':'count (dual_sim)'}>"
      ]
     },
     "execution_count": 26,
     "metadata": {},
     "output_type": "execute_result"
    },
    {
     "data": {
      "image/png": "[encoded data removed]",
      "text/plain": [
       "<Figure size 432x288 with 1 Axes>"
      ]
     },
     "metadata": {
      "needs_background": "light"
     },
     "output_type": "display_data"
    }
   ],
   "source": [
    "TrainData['dual_sim'].value_counts().plot(kind='bar', title='count (dual_sim)')"
   ]
  },
  {
   "cell_type": "code",
   "execution_count": 27,
   "id": "enclosed-ecology",
   "metadata": {},
   "outputs": [
    {
     "name": "stdout",
     "output_type": "stream",
     "text": [
      "p value 0.7323497176264594\n"
     ]
    }
   ],
   "source": [
    "contigency= pd.crosstab(TrainData['dual_sim'], TrainData['price_range'])\n",
    "contigency\n",
    "c, p, dof, expected = chi2_contingency(contigency)\n",
    "print(\"p value\",p)"
   ]
  },
  {
   "cell_type": "markdown",
   "id": "proof-perfume",
   "metadata": {},
   "source": [
    "The p-value is 73.23% which means that we do not reject the null hypothesis at 95% level of confidence. The null hypothesis was that dual_sim and price are independent."
   ]
  },
  {
   "cell_type": "markdown",
   "id": "departmental-syndicate",
   "metadata": {},
   "source": [
    "Lets explore for fc : Front Camera megapixels"
   ]
  },
  {
   "cell_type": "code",
   "execution_count": 28,
   "id": "narrative-raising",
   "metadata": {},
   "outputs": [
    {
     "data": {
      "text/plain": [
       "<AxesSubplot:ylabel='fc'>"
      ]
     },
     "execution_count": 28,
     "metadata": {},
     "output_type": "execute_result"
    },
    {
     "data": {
      "image/png": "[encoded data removed]",
      "text/plain": [
       "<Figure size 432x288 with 1 Axes>"
      ]
     },
     "metadata": {
      "needs_background": "light"
     },
     "output_type": "display_data"
    }
   ],
   "source": [
    "sns.boxplot(y=TrainData[\"fc\"])"
   ]
  },
  {
   "cell_type": "code",
   "execution_count": 29,
   "id": "perfect-cornwall",
   "metadata": {},
   "outputs": [
    {
     "data": {
      "text/plain": [
       "<AxesSubplot:xlabel='price_range', ylabel='fc'>"
      ]
     },
     "execution_count": 29,
     "metadata": {},
     "output_type": "execute_result"
    },
    {
     "data": {
      "image/png": "[encoded data removed]",
      "text/plain": [
       "<Figure size 432x288 with 1 Axes>"
      ]
     },
     "metadata": {
      "needs_background": "light"
     },
     "output_type": "display_data"
    }
   ],
   "source": [
    "sns.boxplot(x=\"price_range\", y=\"fc\", data=TrainData)"
   ]
  },
  {
   "cell_type": "markdown",
   "id": "level-marketplace",
   "metadata": {},
   "source": [
    "In Front Camera megapixels we have found outliers"
   ]
  },
  {
   "cell_type": "markdown",
   "id": "exact-tournament",
   "metadata": {},
   "source": [
    "So we fix this outliers"
   ]
  },
  {
   "cell_type": "code",
   "execution_count": 30,
   "id": "marine-luxembourg",
   "metadata": {},
   "outputs": [
    {
     "name": "stdout",
     "output_type": "stream",
     "text": [
      "6.0\n",
      "-8.0\n",
      "16.0\n"
     ]
    }
   ],
   "source": [
    "Q1 = TrainData['fc'].quantile(0.25)\n",
    "Q3 = TrainData['fc'].quantile(0.75)\n",
    "IQR = Q3 - Q1\n",
    "LR=(Q1 - 1.5 * IQR)\n",
    "UR=(Q3 + 1.5 * IQR)\n",
    "print(IQR)\n",
    "print(LR)\n",
    "print(UR)"
   ]
  },
  {
   "cell_type": "code",
   "execution_count": 31,
   "id": "unsigned-addition",
   "metadata": {},
   "outputs": [
    {
     "name": "stdout",
     "output_type": "stream",
     "text": [
      "0.9692317017572974\n"
     ]
    }
   ],
   "source": [
    "TrainData['fc'] = np.where(TrainData['fc'] <-8.0, -8.0,TrainData['fc'])\n",
    "TrainData['fc'] = np.where(TrainData['fc'] >16.0, 16.0,TrainData['fc'])\n",
    "print(TrainData['fc'].skew())"
   ]
  },
  {
   "cell_type": "code",
   "execution_count": 32,
   "id": "persistent-assistant",
   "metadata": {},
   "outputs": [
    {
     "data": {
      "text/plain": [
       "<AxesSubplot:ylabel='fc'>"
      ]
     },
     "execution_count": 32,
     "metadata": {},
     "output_type": "execute_result"
    },
    {
     "data": {
      "image/png": "[encoded data removed]",
      "text/plain": [
       "<Figure size 432x288 with 1 Axes>"
      ]
     },
     "metadata": {
      "needs_background": "light"
     },
     "output_type": "display_data"
    }
   ],
   "source": [
    "sns.boxplot(y=TrainData[\"fc\"])"
   ]
  },
  {
   "cell_type": "code",
   "execution_count": 33,
   "id": "banned-channel",
   "metadata": {},
   "outputs": [
    {
     "name": "stdout",
     "output_type": "stream",
     "text": [
      "0.9692317017572974\n"
     ]
    }
   ],
   "source": [
    "print(TrainData['fc'].skew())"
   ]
  },
  {
   "cell_type": "code",
   "execution_count": 34,
   "id": "rotary-grass",
   "metadata": {},
   "outputs": [],
   "source": [
    "TrainData['fc_sqrt'] = np.sqrt(TrainData['fc'])"
   ]
  },
  {
   "cell_type": "code",
   "execution_count": 35,
   "id": "informed-broadway",
   "metadata": {},
   "outputs": [
    {
     "data": {
      "text/plain": [
       "<AxesSubplot:ylabel='fc_sqrt'>"
      ]
     },
     "execution_count": 35,
     "metadata": {},
     "output_type": "execute_result"
    },
    {
     "data": {
      "image/png": "[encoded data removed]",
      "text/plain": [
       "<Figure size 432x288 with 1 Axes>"
      ]
     },
     "metadata": {
      "needs_background": "light"
     },
     "output_type": "display_data"
    }
   ],
   "source": [
    "sns.boxplot(y=TrainData[\"fc_sqrt\"])\n"
   ]
  },
  {
   "cell_type": "code",
   "execution_count": 36,
   "id": "round-police",
   "metadata": {},
   "outputs": [
    {
     "name": "stdout",
     "output_type": "stream",
     "text": [
      "-0.001095107409809438\n"
     ]
    }
   ],
   "source": [
    "print(TrainData['fc_sqrt'].skew())"
   ]
  },
  {
   "cell_type": "code",
   "execution_count": 37,
   "id": "subject-shareware",
   "metadata": {},
   "outputs": [
    {
     "name": "stdout",
     "output_type": "stream",
     "text": [
      "                  sum_sq      df         F    PR(>F)\n",
      "price_range     1.811256     1.0  1.246715  0.264315\n",
      "Residual     2902.740649  1998.0       NaN       NaN\n"
     ]
    }
   ],
   "source": [
    "import statsmodels.api as sm\n",
    "from statsmodels.formula.api import ols\n",
    "\n",
    "mod = ols('fc_sqrt ~ price_range',\n",
    "                data=TrainData).fit()\n",
    "                \n",
    "aov_table = sm.stats.anova_lm(mod, typ=2)\n",
    "print(aov_table)"
   ]
  },
  {
   "cell_type": "markdown",
   "id": "correct-ozone",
   "metadata": {},
   "source": [
    "from anova test between price range and fc pvalue is not less than 0.05 means fc with respect to price range does not shows significant difference."
   ]
  },
  {
   "cell_type": "code",
   "execution_count": 38,
   "id": "adjacent-jurisdiction",
   "metadata": {},
   "outputs": [
    {
     "data": {
      "text/plain": [
       "<AxesSubplot:title={'center':'count (four_g)'}>"
      ]
     },
     "execution_count": 38,
     "metadata": {},
     "output_type": "execute_result"
    },
    {
     "data": {
      "image/png": "[encoded data removed]",
      "text/plain": [
       "<Figure size 432x288 with 1 Axes>"
      ]
     },
     "metadata": {
      "needs_background": "light"
     },
     "output_type": "display_data"
    }
   ],
   "source": [
    "TrainData['four_g'].value_counts().plot(kind='bar', title='count (four_g)')"
   ]
  },
  {
   "cell_type": "code",
   "execution_count": 39,
   "id": "italian-bailey",
   "metadata": {},
   "outputs": [
    {
     "name": "stdout",
     "output_type": "stream",
     "text": [
      "P value 0.36471408196943356\n"
     ]
    }
   ],
   "source": [
    "contigency= pd.crosstab(TrainData['four_g'], TrainData['price_range'])\n",
    "contigency\n",
    "c, p, dof, expected = chi2_contingency(contigency)\n",
    "print(\"P value\", p)"
   ]
  },
  {
   "cell_type": "markdown",
   "id": "laughing-intro",
   "metadata": {},
   "source": [
    "The p-value is 36.47% which means that we do not reject the null hypothesis at 95% level of confidence. The null hypothesis was that four_g and price are independent."
   ]
  },
  {
   "cell_type": "markdown",
   "id": "liked-latex",
   "metadata": {},
   "source": [
    "Lets explore for int_memory : Internal Memory in Gigabytes"
   ]
  },
  {
   "cell_type": "code",
   "execution_count": 40,
   "id": "liked-space",
   "metadata": {},
   "outputs": [
    {
     "data": {
      "text/plain": [
       "<AxesSubplot:ylabel='int_memory'>"
      ]
     },
     "execution_count": 40,
     "metadata": {},
     "output_type": "execute_result"
    },
    {
     "data": {
      "image/png": "[encoded data removed]",
      "text/plain": [
       "<Figure size 432x288 with 1 Axes>"
      ]
     },
     "metadata": {
      "needs_background": "light"
     },
     "output_type": "display_data"
    }
   ],
   "source": [
    "sns.boxplot(y=TrainData[\"int_memory\"])"
   ]
  },
  {
   "cell_type": "code",
   "execution_count": 41,
   "id": "tutorial-responsibility",
   "metadata": {},
   "outputs": [
    {
     "data": {
      "text/plain": [
       "<AxesSubplot:xlabel='price_range', ylabel='int_memory'>"
      ]
     },
     "execution_count": 41,
     "metadata": {},
     "output_type": "execute_result"
    },
    {
     "data": {
      "image/png": "[encoded data removed]",
      "text/plain": [
       "<Figure size 432x288 with 1 Axes>"
      ]
     },
     "metadata": {
      "needs_background": "light"
     },
     "output_type": "display_data"
    }
   ],
   "source": [
    "sns.boxplot(x=\"price_range\", y=\"int_memory\", data=TrainData)"
   ]
  },
  {
   "cell_type": "code",
   "execution_count": 42,
   "id": "extraordinary-atlas",
   "metadata": {},
   "outputs": [
    {
     "name": "stdout",
     "output_type": "stream",
     "text": [
      "0.05788932785206039\n"
     ]
    }
   ],
   "source": [
    "print(TrainData['int_memory'].skew())"
   ]
  },
  {
   "cell_type": "code",
   "execution_count": 43,
   "id": "systematic-professor",
   "metadata": {},
   "outputs": [
    {
     "name": "stdout",
     "output_type": "stream",
     "text": [
      "                  sum_sq      df         F   PR(>F)\n",
      "price_range    1299.6025     1.0  3.952787  0.04693\n",
      "Residual     656905.0730  1998.0       NaN      NaN\n"
     ]
    }
   ],
   "source": [
    "import statsmodels.api as sm\n",
    "from statsmodels.formula.api import ols\n",
    "\n",
    "mod = ols('int_memory ~ price_range',\n",
    "                data=TrainData).fit()\n",
    "                \n",
    "aov_table = sm.stats.anova_lm(mod, typ=2)\n",
    "print(aov_table)"
   ]
  },
  {
   "cell_type": "markdown",
   "id": "vietnamese-generator",
   "metadata": {},
   "source": [
    "from anova test between price range and int_memory pvalue is less than 0.05 means int_memory with respect to price range shows significant difference."
   ]
  },
  {
   "cell_type": "code",
   "execution_count": null,
   "id": "modified-leeds",
   "metadata": {},
   "outputs": [],
   "source": []
  },
  {
   "cell_type": "markdown",
   "id": "pediatric-promise",
   "metadata": {},
   "source": [
    "Lets explore for m_dep : Mobile Depth in cm"
   ]
  },
  {
   "cell_type": "code",
   "execution_count": 44,
   "id": "expressed-harassment",
   "metadata": {},
   "outputs": [
    {
     "data": {
      "text/plain": [
       "<AxesSubplot:ylabel='m_dep'>"
      ]
     },
     "execution_count": 44,
     "metadata": {},
     "output_type": "execute_result"
    },
    {
     "data": {
      "image/png": "[encoded data removed]",
      "text/plain": [
       "<Figure size 432x288 with 1 Axes>"
      ]
     },
     "metadata": {
      "needs_background": "light"
     },
     "output_type": "display_data"
    }
   ],
   "source": [
    "sns.boxplot(y=TrainData[\"m_dep\"])"
   ]
  },
  {
   "cell_type": "code",
   "execution_count": 45,
   "id": "helpful-threshold",
   "metadata": {},
   "outputs": [
    {
     "data": {
      "text/plain": [
       "<AxesSubplot:xlabel='price_range', ylabel='m_dep'>"
      ]
     },
     "execution_count": 45,
     "metadata": {},
     "output_type": "execute_result"
    },
    {
     "data": {
      "image/png": "[encoded data removed]",
      "text/plain": [
       "<Figure size 432x288 with 1 Axes>"
      ]
     },
     "metadata": {
      "needs_background": "light"
     },
     "output_type": "display_data"
    }
   ],
   "source": [
    "sns.boxplot(x=\"price_range\", y=\"m_dep\", data=TrainData)"
   ]
  },
  {
   "cell_type": "code",
   "execution_count": 46,
   "id": "accompanied-swimming",
   "metadata": {},
   "outputs": [
    {
     "name": "stdout",
     "output_type": "stream",
     "text": [
      "0.08908200979245855\n"
     ]
    }
   ],
   "source": [
    "print(TrainData['m_dep'].skew())"
   ]
  },
  {
   "cell_type": "code",
   "execution_count": 47,
   "id": "logical-lobby",
   "metadata": {},
   "outputs": [],
   "source": [
    "TrainData['m_dep_sqrt'] = np.sqrt(TrainData['m_dep'])"
   ]
  },
  {
   "cell_type": "code",
   "execution_count": 48,
   "id": "close-richardson",
   "metadata": {},
   "outputs": [
    {
     "data": {
      "text/plain": [
       "<AxesSubplot:ylabel='m_dep_sqrt'>"
      ]
     },
     "execution_count": 48,
     "metadata": {},
     "output_type": "execute_result"
    },
    {
     "data": {
      "image/png": "[encoded data removed]",
      "text/plain": [
       "<Figure size 432x288 with 1 Axes>"
      ]
     },
     "metadata": {
      "needs_background": "light"
     },
     "output_type": "display_data"
    }
   ],
   "source": [
    "sns.boxplot(y=TrainData[\"m_dep_sqrt\"])"
   ]
  },
  {
   "cell_type": "code",
   "execution_count": 49,
   "id": "historical-shame",
   "metadata": {},
   "outputs": [
    {
     "name": "stdout",
     "output_type": "stream",
     "text": [
      "-0.27875474894694174\n"
     ]
    }
   ],
   "source": [
    "print(TrainData['m_dep_sqrt'].skew())"
   ]
  },
  {
   "cell_type": "code",
   "execution_count": 50,
   "id": "forward-density",
   "metadata": {},
   "outputs": [
    {
     "name": "stdout",
     "output_type": "stream",
     "text": [
      "                sum_sq      df         F    PR(>F)\n",
      "price_range   0.000204     1.0  0.004119  0.948834\n",
      "Residual     98.857265  1998.0       NaN       NaN\n"
     ]
    }
   ],
   "source": [
    "import statsmodels.api as sm\n",
    "from statsmodels.formula.api import ols\n",
    "\n",
    "mod = ols('m_dep_sqrt ~ price_range',\n",
    "                data=TrainData).fit()\n",
    "                \n",
    "aov_table = sm.stats.anova_lm(mod, typ=2)\n",
    "print(aov_table)"
   ]
  },
  {
   "cell_type": "markdown",
   "id": "julian-italian",
   "metadata": {},
   "source": [
    "from anova test between price range and m_dep pvalue is not less than 0.05 means m_dep with respect to price range does not shows significant difference."
   ]
  },
  {
   "cell_type": "code",
   "execution_count": null,
   "id": "radio-cruise",
   "metadata": {},
   "outputs": [],
   "source": []
  },
  {
   "cell_type": "markdown",
   "id": "tamil-dating",
   "metadata": {},
   "source": [
    "Lets explore mobile_wt : Weight of mobile phone"
   ]
  },
  {
   "cell_type": "code",
   "execution_count": 51,
   "id": "regulated-screening",
   "metadata": {},
   "outputs": [
    {
     "data": {
      "text/plain": [
       "<AxesSubplot:ylabel='mobile_wt'>"
      ]
     },
     "execution_count": 51,
     "metadata": {},
     "output_type": "execute_result"
    },
    {
     "data": {
      "image/png": "[encoded data removed]",
      "text/plain": [
       "<Figure size 432x288 with 1 Axes>"
      ]
     },
     "metadata": {
      "needs_background": "light"
     },
     "output_type": "display_data"
    }
   ],
   "source": [
    "sns.boxplot(y=TrainData[\"mobile_wt\"])"
   ]
  },
  {
   "cell_type": "code",
   "execution_count": 52,
   "id": "warming-challenge",
   "metadata": {},
   "outputs": [
    {
     "data": {
      "text/plain": [
       "<AxesSubplot:xlabel='price_range', ylabel='mobile_wt'>"
      ]
     },
     "execution_count": 52,
     "metadata": {},
     "output_type": "execute_result"
    },
    {
     "data": {
      "image/png": "[encoded data removed]",
      "text/plain": [
       "<Figure size 432x288 with 1 Axes>"
      ]
     },
     "metadata": {
      "needs_background": "light"
     },
     "output_type": "display_data"
    }
   ],
   "source": [
    "sns.boxplot(x=\"price_range\", y=\"mobile_wt\", data=TrainData)"
   ]
  },
  {
   "cell_type": "code",
   "execution_count": 53,
   "id": "apparent-honduras",
   "metadata": {},
   "outputs": [
    {
     "name": "stdout",
     "output_type": "stream",
     "text": [
      "0.006558157428692449\n"
     ]
    }
   ],
   "source": [
    "print(TrainData['mobile_wt'].skew())"
   ]
  },
  {
   "cell_type": "code",
   "execution_count": 54,
   "id": "temporal-knowing",
   "metadata": {},
   "outputs": [
    {
     "name": "stdout",
     "output_type": "stream",
     "text": [
      "                   sum_sq      df         F    PR(>F)\n",
      "price_range  2.300162e+03     1.0  1.836293  0.175539\n",
      "Residual     2.502718e+06  1998.0       NaN       NaN\n"
     ]
    }
   ],
   "source": [
    "import statsmodels.api as sm\n",
    "from statsmodels.formula.api import ols\n",
    "\n",
    "mod = ols('mobile_wt ~ price_range',\n",
    "                data=TrainData).fit()\n",
    "                \n",
    "aov_table = sm.stats.anova_lm(mod, typ=2)\n",
    "print(aov_table)"
   ]
  },
  {
   "cell_type": "markdown",
   "id": "aware-protest",
   "metadata": {},
   "source": [
    "from anova test between price range and mobile_wt pvalue is not less than 0.05 means mobile_wt with respect to price range does not shows significant difference."
   ]
  },
  {
   "cell_type": "code",
   "execution_count": 55,
   "id": "rational-elimination",
   "metadata": {},
   "outputs": [
    {
     "data": {
      "text/plain": [
       "<AxesSubplot:title={'center':'count (n_cores)'}>"
      ]
     },
     "execution_count": 55,
     "metadata": {},
     "output_type": "execute_result"
    },
    {
     "data": {
      "image/png": "[encoded data removed]",
      "text/plain": [
       "<Figure size 432x288 with 1 Axes>"
      ]
     },
     "metadata": {
      "needs_background": "light"
     },
     "output_type": "display_data"
    }
   ],
   "source": [
    "TrainData['n_cores'].value_counts().plot(kind='bar', title='count (n_cores)')"
   ]
  },
  {
   "cell_type": "code",
   "execution_count": 56,
   "id": "pointed-monaco",
   "metadata": {},
   "outputs": [
    {
     "name": "stdout",
     "output_type": "stream",
     "text": [
      "pvalue 0.488293911066102\n"
     ]
    }
   ],
   "source": [
    "contigency= pd.crosstab(TrainData['n_cores'], TrainData['price_range'])\n",
    "contigency\n",
    "c, p, dof, expected = chi2_contingency(contigency)\n",
    "print(\"pvalue\", p)"
   ]
  },
  {
   "cell_type": "markdown",
   "id": "ceramic-quest",
   "metadata": {},
   "source": [
    "The p-value is 48.82% which means that we do not reject the null hypothesis at 95% level of confidence. The null hypothesis was that n_cores and price are independent."
   ]
  },
  {
   "cell_type": "markdown",
   "id": "nutritional-voltage",
   "metadata": {},
   "source": [
    "Lets Explore for pc : Primary Camera megapixels"
   ]
  },
  {
   "cell_type": "code",
   "execution_count": 57,
   "id": "exotic-spencer",
   "metadata": {},
   "outputs": [
    {
     "data": {
      "text/plain": [
       "<AxesSubplot:ylabel='pc'>"
      ]
     },
     "execution_count": 57,
     "metadata": {},
     "output_type": "execute_result"
    },
    {
     "data": {
      "image/png": "[encoded data removed]",
      "text/plain": [
       "<Figure size 432x288 with 1 Axes>"
      ]
     },
     "metadata": {
      "needs_background": "light"
     },
     "output_type": "display_data"
    }
   ],
   "source": [
    "sns.boxplot(y=TrainData[\"pc\"])"
   ]
  },
  {
   "cell_type": "code",
   "execution_count": 58,
   "id": "prompt-mineral",
   "metadata": {},
   "outputs": [
    {
     "data": {
      "text/plain": [
       "<AxesSubplot:xlabel='price_range', ylabel='pc'>"
      ]
     },
     "execution_count": 58,
     "metadata": {},
     "output_type": "execute_result"
    },
    {
     "data": {
      "image/png": "[encoded data removed]",
      "text/plain": [
       "<Figure size 432x288 with 1 Axes>"
      ]
     },
     "metadata": {
      "needs_background": "light"
     },
     "output_type": "display_data"
    }
   ],
   "source": [
    "sns.boxplot(x=\"price_range\", y=\"pc\", data=TrainData)"
   ]
  },
  {
   "cell_type": "code",
   "execution_count": 59,
   "id": "compatible-showcase",
   "metadata": {},
   "outputs": [
    {
     "name": "stdout",
     "output_type": "stream",
     "text": [
      "0.017306150471392553\n"
     ]
    }
   ],
   "source": [
    "print(TrainData['pc'].skew())"
   ]
  },
  {
   "cell_type": "code",
   "execution_count": 60,
   "id": "affecting-dover",
   "metadata": {},
   "outputs": [
    {
     "name": "stdout",
     "output_type": "stream",
     "text": [
      "                 sum_sq      df         F    PR(>F)\n",
      "price_range     82.9921     1.0  2.258117  0.133074\n",
      "Residual     73432.0634  1998.0       NaN       NaN\n"
     ]
    }
   ],
   "source": [
    "import statsmodels.api as sm\n",
    "from statsmodels.formula.api import ols\n",
    "\n",
    "mod = ols('pc ~ price_range',\n",
    "                data=TrainData).fit()\n",
    "                \n",
    "aov_table = sm.stats.anova_lm(mod, typ=2)\n",
    "print(aov_table)"
   ]
  },
  {
   "cell_type": "markdown",
   "id": "understood-birthday",
   "metadata": {},
   "source": [
    "from anova test between price range and pc pvalue is not less than 0.05 means pc with respect to price range does not shows significant difference."
   ]
  },
  {
   "cell_type": "code",
   "execution_count": null,
   "id": "emerging-knight",
   "metadata": {},
   "outputs": [],
   "source": []
  },
  {
   "cell_type": "markdown",
   "id": "protecting-history",
   "metadata": {},
   "source": [
    "Lets explore px_height: Pixel Resolution Height"
   ]
  },
  {
   "cell_type": "code",
   "execution_count": 61,
   "id": "beneficial-minute",
   "metadata": {},
   "outputs": [
    {
     "data": {
      "text/plain": [
       "<AxesSubplot:ylabel='px_height'>"
      ]
     },
     "execution_count": 61,
     "metadata": {},
     "output_type": "execute_result"
    },
    {
     "data": {
      "image/png": "[encoded data removed]",
      "text/plain": [
       "<Figure size 432x288 with 1 Axes>"
      ]
     },
     "metadata": {
      "needs_background": "light"
     },
     "output_type": "display_data"
    }
   ],
   "source": [
    "sns.boxplot(y=TrainData[\"px_height\"])"
   ]
  },
  {
   "cell_type": "code",
   "execution_count": 62,
   "id": "appreciated-walnut",
   "metadata": {},
   "outputs": [
    {
     "data": {
      "text/plain": [
       "<AxesSubplot:xlabel='price_range', ylabel='px_height'>"
      ]
     },
     "execution_count": 62,
     "metadata": {},
     "output_type": "execute_result"
    },
    {
     "data": {
      "image/png": "[encoded data removed]",
      "text/plain": [
       "<Figure size 432x288 with 1 Axes>"
      ]
     },
     "metadata": {
      "needs_background": "light"
     },
     "output_type": "display_data"
    }
   ],
   "source": [
    "sns.boxplot(x=\"price_range\", y=\"px_height\", data=TrainData)"
   ]
  },
  {
   "cell_type": "markdown",
   "id": "turkish-barrel",
   "metadata": {},
   "source": [
    "Pixel Resolution Height has found outliers "
   ]
  },
  {
   "cell_type": "code",
   "execution_count": 63,
   "id": "prostate-macedonia",
   "metadata": {},
   "outputs": [
    {
     "name": "stdout",
     "output_type": "stream",
     "text": [
      "664.5\n",
      "-714.0\n",
      "1944.0\n"
     ]
    }
   ],
   "source": [
    "Q1 = TrainData['px_height'].quantile(0.25)\n",
    "Q3 = TrainData['px_height'].quantile(0.75)\n",
    "IQR = Q3 - Q1\n",
    "LR=(Q1 - 1.5 * IQR)\n",
    "UR=(Q3 + 1.5 * IQR)\n",
    "print(IQR)\n",
    "print(LR)\n",
    "print(UR)"
   ]
  },
  {
   "cell_type": "code",
   "execution_count": 64,
   "id": "iraqi-ordering",
   "metadata": {},
   "outputs": [
    {
     "name": "stdout",
     "output_type": "stream",
     "text": [
      "0.6658661340366808\n"
     ]
    }
   ],
   "source": [
    "TrainData['px_height'] = np.where(TrainData['px_height'] <-714.0, -714.0,TrainData['px_height'])\n",
    "TrainData['px_height'] = np.where(TrainData['px_height'] >1944.0, 1944.0,TrainData['px_height'])\n",
    "print(TrainData['px_height'].skew())"
   ]
  },
  {
   "cell_type": "code",
   "execution_count": 65,
   "id": "bigger-spotlight",
   "metadata": {},
   "outputs": [
    {
     "data": {
      "text/plain": [
       "<AxesSubplot:ylabel='px_height'>"
      ]
     },
     "execution_count": 65,
     "metadata": {},
     "output_type": "execute_result"
    },
    {
     "data": {
      "image/png": "[encoded data removed]",
      "text/plain": [
       "<Figure size 432x288 with 1 Axes>"
      ]
     },
     "metadata": {
      "needs_background": "light"
     },
     "output_type": "display_data"
    }
   ],
   "source": [
    "sns.boxplot(y=TrainData[\"px_height\"])"
   ]
  },
  {
   "cell_type": "code",
   "execution_count": 66,
   "id": "viral-philip",
   "metadata": {},
   "outputs": [
    {
     "name": "stdout",
     "output_type": "stream",
     "text": [
      "0.6658661340366808\n"
     ]
    }
   ],
   "source": [
    "print(TrainData['px_height'].skew())"
   ]
  },
  {
   "cell_type": "code",
   "execution_count": 67,
   "id": "confirmed-poetry",
   "metadata": {},
   "outputs": [],
   "source": [
    "TrainData['px_height_sqrt'] = np.sqrt(TrainData['px_height'])"
   ]
  },
  {
   "cell_type": "code",
   "execution_count": 68,
   "id": "intended-clone",
   "metadata": {},
   "outputs": [
    {
     "data": {
      "text/plain": [
       "<AxesSubplot:ylabel='px_height_sqrt'>"
      ]
     },
     "execution_count": 68,
     "metadata": {},
     "output_type": "execute_result"
    },
    {
     "data": {
      "image/png": "[encoded data removed]",
      "text/plain": [
       "<Figure size 432x288 with 1 Axes>"
      ]
     },
     "metadata": {
      "needs_background": "light"
     },
     "output_type": "display_data"
    }
   ],
   "source": [
    "sns.boxplot(y=TrainData[\"px_height_sqrt\"])"
   ]
  },
  {
   "cell_type": "code",
   "execution_count": 69,
   "id": "needed-princess",
   "metadata": {},
   "outputs": [
    {
     "name": "stdout",
     "output_type": "stream",
     "text": [
      "-0.05490700179245843\n"
     ]
    }
   ],
   "source": [
    "print(TrainData['px_height_sqrt'].skew())"
   ]
  },
  {
   "cell_type": "code",
   "execution_count": 70,
   "id": "different-persian",
   "metadata": {},
   "outputs": [
    {
     "name": "stdout",
     "output_type": "stream",
     "text": [
      "                   sum_sq      df          F        PR(>F)\n",
      "price_range  8.721686e+06     1.0  45.272809  2.231447e-11\n",
      "Residual     3.849094e+08  1998.0        NaN           NaN\n"
     ]
    }
   ],
   "source": [
    "import statsmodels.api as sm\n",
    "from statsmodels.formula.api import ols\n",
    "\n",
    "mod = ols('px_height ~ price_range',\n",
    "                data=TrainData).fit()\n",
    "                \n",
    "aov_table = sm.stats.anova_lm(mod, typ=2)\n",
    "print(aov_table)"
   ]
  },
  {
   "cell_type": "markdown",
   "id": "expensive-forum",
   "metadata": {},
   "source": [
    "from anova test between price range and px_height pvalue is less than 0.05 means px_height with respect to price range shows significant difference."
   ]
  },
  {
   "cell_type": "code",
   "execution_count": null,
   "id": "polar-denver",
   "metadata": {},
   "outputs": [],
   "source": []
  },
  {
   "cell_type": "markdown",
   "id": "retired-spectrum",
   "metadata": {},
   "source": [
    "Lets Explore px_width"
   ]
  },
  {
   "cell_type": "code",
   "execution_count": 71,
   "id": "steady-temple",
   "metadata": {},
   "outputs": [
    {
     "data": {
      "text/plain": [
       "<AxesSubplot:ylabel='px_width'>"
      ]
     },
     "execution_count": 71,
     "metadata": {},
     "output_type": "execute_result"
    },
    {
     "data": {
      "image/png": "[encoded data removed]",
      "text/plain": [
       "<Figure size 432x288 with 1 Axes>"
      ]
     },
     "metadata": {
      "needs_background": "light"
     },
     "output_type": "display_data"
    }
   ],
   "source": [
    "sns.boxplot(y=TrainData[\"px_width\"])"
   ]
  },
  {
   "cell_type": "code",
   "execution_count": 72,
   "id": "final-register",
   "metadata": {},
   "outputs": [
    {
     "data": {
      "text/plain": [
       "<AxesSubplot:xlabel='price_range', ylabel='px_width'>"
      ]
     },
     "execution_count": 72,
     "metadata": {},
     "output_type": "execute_result"
    },
    {
     "data": {
      "image/png": "[encoded data removed]",
      "text/plain": [
       "<Figure size 432x288 with 1 Axes>"
      ]
     },
     "metadata": {
      "needs_background": "light"
     },
     "output_type": "display_data"
    }
   ],
   "source": [
    "sns.boxplot(x=\"price_range\", y=\"px_width\", data=TrainData)"
   ]
  },
  {
   "cell_type": "code",
   "execution_count": 73,
   "id": "cutting-magic",
   "metadata": {},
   "outputs": [
    {
     "name": "stdout",
     "output_type": "stream",
     "text": [
      "0.014787473768006081\n"
     ]
    }
   ],
   "source": [
    "print(TrainData['px_width'].skew())"
   ]
  },
  {
   "cell_type": "code",
   "execution_count": 74,
   "id": "optical-highway",
   "metadata": {},
   "outputs": [
    {
     "name": "stdout",
     "output_type": "stream",
     "text": [
      "                   sum_sq      df          F        PR(>F)\n",
      "price_range  1.026696e+07     1.0  56.489089  8.478969e-14\n",
      "Residual     3.631390e+08  1998.0        NaN           NaN\n"
     ]
    }
   ],
   "source": [
    "import statsmodels.api as sm\n",
    "from statsmodels.formula.api import ols\n",
    "\n",
    "mod = ols('px_width ~ price_range',\n",
    "                data=TrainData).fit()\n",
    "                \n",
    "aov_table = sm.stats.anova_lm(mod, typ=2)\n",
    "print(aov_table)"
   ]
  },
  {
   "cell_type": "markdown",
   "id": "designed-completion",
   "metadata": {},
   "source": [
    "from anova test between price range and px_width pvalue is less than 0.05 means px_width with respect to price range shows significant difference."
   ]
  },
  {
   "cell_type": "markdown",
   "id": "gentle-richards",
   "metadata": {},
   "source": [
    "Lets Explore for ram: Random Access Memory in Megabytes "
   ]
  },
  {
   "cell_type": "code",
   "execution_count": 75,
   "id": "seasonal-washington",
   "metadata": {},
   "outputs": [
    {
     "data": {
      "text/plain": [
       "<AxesSubplot:ylabel='ram'>"
      ]
     },
     "execution_count": 75,
     "metadata": {},
     "output_type": "execute_result"
    },
    {
     "data": {
      "image/png": "[encoded data removed]",
      "text/plain": [
       "<Figure size 432x288 with 1 Axes>"
      ]
     },
     "metadata": {
      "needs_background": "light"
     },
     "output_type": "display_data"
    }
   ],
   "source": [
    "sns.boxplot(y=TrainData[\"ram\"])"
   ]
  },
  {
   "cell_type": "code",
   "execution_count": 76,
   "id": "difficult-authority",
   "metadata": {},
   "outputs": [
    {
     "data": {
      "text/plain": [
       "<AxesSubplot:xlabel='price_range', ylabel='ram'>"
      ]
     },
     "execution_count": 76,
     "metadata": {},
     "output_type": "execute_result"
    },
    {
     "data": {
      "image/png": "[encoded data removed]",
      "text/plain": [
       "<Figure size 432x288 with 1 Axes>"
      ]
     },
     "metadata": {
      "needs_background": "light"
     },
     "output_type": "display_data"
    }
   ],
   "source": [
    "sns.boxplot(x=\"price_range\", y=\"ram\", data=TrainData)"
   ]
  },
  {
   "cell_type": "code",
   "execution_count": 77,
   "id": "greatest-chicago",
   "metadata": {},
   "outputs": [
    {
     "name": "stdout",
     "output_type": "stream",
     "text": [
      "0.006628035398750348\n"
     ]
    }
   ],
   "source": [
    "print(TrainData['ram'].skew())"
   ]
  },
  {
   "cell_type": "code",
   "execution_count": 78,
   "id": "conscious-knight",
   "metadata": {},
   "outputs": [
    {
     "name": "stdout",
     "output_type": "stream",
     "text": [
      "                   sum_sq      df             F  PR(>F)\n",
      "price_range  1.978061e+09     1.0  10565.894952     0.0\n",
      "Residual     3.740494e+08  1998.0           NaN     NaN\n"
     ]
    }
   ],
   "source": [
    "import statsmodels.api as sm\n",
    "from statsmodels.formula.api import ols\n",
    "\n",
    "mod = ols('ram ~ price_range',\n",
    "                data=TrainData).fit()\n",
    "                \n",
    "aov_table = sm.stats.anova_lm(mod, typ=2)\n",
    "print(aov_table)"
   ]
  },
  {
   "cell_type": "markdown",
   "id": "raised-parking",
   "metadata": {},
   "source": [
    "from anova test between price range and ram pvalue is less than 0.05 means ram with respect to price range shows significant difference."
   ]
  },
  {
   "cell_type": "markdown",
   "id": "palestinian-sending",
   "metadata": {},
   "source": [
    "Lets Explore for sc_h : Screen Height of mobile in cm"
   ]
  },
  {
   "cell_type": "code",
   "execution_count": 79,
   "id": "amino-lotus",
   "metadata": {},
   "outputs": [
    {
     "data": {
      "text/plain": [
       "<AxesSubplot:ylabel='sc_h'>"
      ]
     },
     "execution_count": 79,
     "metadata": {},
     "output_type": "execute_result"
    },
    {
     "data": {
      "image/png": "[encoded data removed]",
      "text/plain": [
       "<Figure size 432x288 with 1 Axes>"
      ]
     },
     "metadata": {
      "needs_background": "light"
     },
     "output_type": "display_data"
    }
   ],
   "source": [
    "sns.boxplot(y=TrainData[\"sc_h\"])"
   ]
  },
  {
   "cell_type": "code",
   "execution_count": 80,
   "id": "mineral-israel",
   "metadata": {},
   "outputs": [
    {
     "data": {
      "text/plain": [
       "<AxesSubplot:xlabel='price_range', ylabel='sc_h'>"
      ]
     },
     "execution_count": 80,
     "metadata": {},
     "output_type": "execute_result"
    },
    {
     "data": {
      "image/png": "[encoded data removed]",
      "text/plain": [
       "<Figure size 432x288 with 1 Axes>"
      ]
     },
     "metadata": {
      "needs_background": "light"
     },
     "output_type": "display_data"
    }
   ],
   "source": [
    "sns.boxplot(x=\"price_range\", y=\"sc_h\", data=TrainData)"
   ]
  },
  {
   "cell_type": "code",
   "execution_count": 81,
   "id": "missing-notion",
   "metadata": {},
   "outputs": [
    {
     "name": "stdout",
     "output_type": "stream",
     "text": [
      "-0.09888424098283438\n"
     ]
    }
   ],
   "source": [
    "print(TrainData['sc_h'].skew())"
   ]
  },
  {
   "cell_type": "code",
   "execution_count": 82,
   "id": "suited-liberal",
   "metadata": {},
   "outputs": [
    {
     "name": "stdout",
     "output_type": "stream",
     "text": [
      "                 sum_sq      df        F    PR(>F)\n",
      "price_range     18.7489     1.0  1.05622  0.304203\n",
      "Residual     35466.3666  1998.0      NaN       NaN\n"
     ]
    }
   ],
   "source": [
    "import statsmodels.api as sm\n",
    "from statsmodels.formula.api import ols\n",
    "\n",
    "mod = ols('sc_h ~ price_range',\n",
    "                data=TrainData).fit()\n",
    "                \n",
    "aov_table = sm.stats.anova_lm(mod, typ=2)\n",
    "print(aov_table)"
   ]
  },
  {
   "cell_type": "markdown",
   "id": "seasonal-studio",
   "metadata": {},
   "source": [
    "from anova test between price range and sc_h pvalue is not less than 0.05 means sc_h with respect to price range does not shows significant difference."
   ]
  },
  {
   "cell_type": "markdown",
   "id": "accepting-cleanup",
   "metadata": {},
   "source": [
    "Lets Explore for sc_w : Screen Width of mobile in cm"
   ]
  },
  {
   "cell_type": "code",
   "execution_count": 83,
   "id": "signal-mentor",
   "metadata": {},
   "outputs": [
    {
     "data": {
      "text/plain": [
       "<AxesSubplot:ylabel='sc_w'>"
      ]
     },
     "execution_count": 83,
     "metadata": {},
     "output_type": "execute_result"
    },
    {
     "data": {
      "image/png": "[encoded data removed]",
      "text/plain": [
       "<Figure size 432x288 with 1 Axes>"
      ]
     },
     "metadata": {
      "needs_background": "light"
     },
     "output_type": "display_data"
    }
   ],
   "source": [
    "sns.boxplot(y=TrainData[\"sc_w\"])"
   ]
  },
  {
   "cell_type": "code",
   "execution_count": 84,
   "id": "recorded-cannon",
   "metadata": {},
   "outputs": [
    {
     "data": {
      "text/plain": [
       "<AxesSubplot:xlabel='price_range', ylabel='sc_w'>"
      ]
     },
     "execution_count": 84,
     "metadata": {},
     "output_type": "execute_result"
    },
    {
     "data": {
      "image/png": "[encoded data removed]",
      "text/plain": [
       "<Figure size 432x288 with 1 Axes>"
      ]
     },
     "metadata": {
      "needs_background": "light"
     },
     "output_type": "display_data"
    }
   ],
   "source": [
    "sns.boxplot(x=\"price_range\", y=\"sc_w\", data=TrainData)"
   ]
  },
  {
   "cell_type": "code",
   "execution_count": 85,
   "id": "global-wrong",
   "metadata": {},
   "outputs": [
    {
     "name": "stdout",
     "output_type": "stream",
     "text": [
      "0.6337870734456067\n"
     ]
    }
   ],
   "source": [
    "print(TrainData['sc_w'].skew())"
   ]
  },
  {
   "cell_type": "code",
   "execution_count": 86,
   "id": "logical-turkey",
   "metadata": {},
   "outputs": [],
   "source": [
    "TrainData['sc_w_sqrt'] = np.sqrt(TrainData['sc_w'])"
   ]
  },
  {
   "cell_type": "code",
   "execution_count": 87,
   "id": "agreed-roller",
   "metadata": {},
   "outputs": [
    {
     "data": {
      "text/plain": [
       "<AxesSubplot:ylabel='sc_w_sqrt'>"
      ]
     },
     "execution_count": 87,
     "metadata": {},
     "output_type": "execute_result"
    },
    {
     "data": {
      "image/png": "[encoded data removed]",
      "text/plain": [
       "<Figure size 432x288 with 1 Axes>"
      ]
     },
     "metadata": {
      "needs_background": "light"
     },
     "output_type": "display_data"
    }
   ],
   "source": [
    "sns.boxplot(y=TrainData[\"sc_w_sqrt\"])"
   ]
  },
  {
   "cell_type": "code",
   "execution_count": 88,
   "id": "exciting-radical",
   "metadata": {},
   "outputs": [
    {
     "name": "stdout",
     "output_type": "stream",
     "text": [
      "-0.3664011053870454\n"
     ]
    }
   ],
   "source": [
    "print(TrainData['sc_w_sqrt'].skew())"
   ]
  },
  {
   "cell_type": "code",
   "execution_count": 89,
   "id": "exciting-playlist",
   "metadata": {},
   "outputs": [
    {
     "name": "stdout",
     "output_type": "stream",
     "text": [
      "                  sum_sq      df         F    PR(>F)\n",
      "price_range     1.850876     1.0  1.655971  0.198297\n",
      "Residual     2233.161327  1998.0       NaN       NaN\n"
     ]
    }
   ],
   "source": [
    "import statsmodels.api as sm\n",
    "from statsmodels.formula.api import ols\n",
    "\n",
    "mod = ols('sc_w_sqrt~ price_range',\n",
    "                data=TrainData).fit()\n",
    "                \n",
    "aov_table = sm.stats.anova_lm(mod, typ=2)\n",
    "print(aov_table)"
   ]
  },
  {
   "cell_type": "markdown",
   "id": "helpful-warning",
   "metadata": {},
   "source": [
    "from anova test between price range and sc_w pvalue is not less than 0.05 means sc_w with respect to price range does not shows significant difference."
   ]
  },
  {
   "cell_type": "markdown",
   "id": "mighty-updating",
   "metadata": {},
   "source": [
    "Lets Explore for talk time "
   ]
  },
  {
   "cell_type": "code",
   "execution_count": 90,
   "id": "iraqi-basics",
   "metadata": {},
   "outputs": [
    {
     "data": {
      "text/plain": [
       "<AxesSubplot:ylabel='talk_time'>"
      ]
     },
     "execution_count": 90,
     "metadata": {},
     "output_type": "execute_result"
    },
    {
     "data": {
      "image/png": "[encoded data removed]",
      "text/plain": [
       "<Figure size 432x288 with 1 Axes>"
      ]
     },
     "metadata": {
      "needs_background": "light"
     },
     "output_type": "display_data"
    }
   ],
   "source": [
    "sns.boxplot(y=TrainData[\"talk_time\"])"
   ]
  },
  {
   "cell_type": "code",
   "execution_count": 91,
   "id": "precise-portfolio",
   "metadata": {},
   "outputs": [
    {
     "data": {
      "text/plain": [
       "<AxesSubplot:xlabel='price_range', ylabel='talk_time'>"
      ]
     },
     "execution_count": 91,
     "metadata": {},
     "output_type": "execute_result"
    },
    {
     "data": {
      "image/png": "[encoded data removed]",
      "text/plain": [
       "<Figure size 432x288 with 1 Axes>"
      ]
     },
     "metadata": {
      "needs_background": "light"
     },
     "output_type": "display_data"
    }
   ],
   "source": [
    "sns.boxplot(x=\"price_range\", y=\"talk_time\", data=TrainData)\n",
    "#TrainData.boxplot('talk_time', by='price_range', figsize=(12, 8))"
   ]
  },
  {
   "cell_type": "code",
   "execution_count": 92,
   "id": "hungry-reason",
   "metadata": {},
   "outputs": [
    {
     "name": "stdout",
     "output_type": "stream",
     "text": [
      "0.009511762221541457\n"
     ]
    }
   ],
   "source": [
    "print(TrainData['talk_time'].skew())"
   ]
  },
  {
   "cell_type": "code",
   "execution_count": 93,
   "id": "cheap-hygiene",
   "metadata": {},
   "outputs": [
    {
     "name": "stdout",
     "output_type": "stream",
     "text": [
      "                 sum_sq      df         F    PR(>F)\n",
      "price_range     28.5156     1.0  0.955121  0.328537\n",
      "Residual     59651.2424  1998.0       NaN       NaN\n"
     ]
    }
   ],
   "source": [
    "import statsmodels.api as sm\n",
    "from statsmodels.formula.api import ols\n",
    "\n",
    "mod = ols('talk_time ~ price_range',\n",
    "                data=TrainData).fit()\n",
    "                \n",
    "aov_table = sm.stats.anova_lm(mod, typ=2)\n",
    "print(aov_table)"
   ]
  },
  {
   "cell_type": "markdown",
   "id": "molecular-deviation",
   "metadata": {},
   "source": [
    "from anova test between price range and talk_time pvalue is not less than 0.05 means talk_time with respect to price range does not shows significant difference."
   ]
  },
  {
   "cell_type": "code",
   "execution_count": null,
   "id": "legendary-payment",
   "metadata": {},
   "outputs": [],
   "source": []
  },
  {
   "cell_type": "markdown",
   "id": "demonstrated-sending",
   "metadata": {},
   "source": [
    "Explore for three_g"
   ]
  },
  {
   "cell_type": "code",
   "execution_count": 94,
   "id": "cathedral-clock",
   "metadata": {},
   "outputs": [
    {
     "data": {
      "text/plain": [
       "<AxesSubplot:title={'center':'count (three_g)'}>"
      ]
     },
     "execution_count": 94,
     "metadata": {},
     "output_type": "execute_result"
    },
    {
     "data": {
      "image/png": "[encoded data removed]",
      "text/plain": [
       "<Figure size 432x288 with 1 Axes>"
      ]
     },
     "metadata": {
      "needs_background": "light"
     },
     "output_type": "display_data"
    }
   ],
   "source": [
    "TrainData['three_g'].value_counts().plot(kind='bar', title='count (three_g)')"
   ]
  },
  {
   "cell_type": "code",
   "execution_count": 95,
   "id": "accompanied-president",
   "metadata": {},
   "outputs": [
    {
     "data": {
      "text/plain": [
       "0.7116958581372179"
      ]
     },
     "execution_count": 95,
     "metadata": {},
     "output_type": "execute_result"
    }
   ],
   "source": [
    "contigency= pd.crosstab(TrainData['three_g'], TrainData['price_range'])\n",
    "contigency\n",
    "c, p, dof, expected = chi2_contingency(contigency)\n",
    "p"
   ]
  },
  {
   "cell_type": "markdown",
   "id": "experimental-blast",
   "metadata": {},
   "source": [
    "The p-value is 71.16% which means that we do not reject the null hypothesis at 95% level of confidence. The null hypothesis was that three_g and price are independent."
   ]
  },
  {
   "cell_type": "markdown",
   "id": "historic-finnish",
   "metadata": {},
   "source": [
    "Explore for touch_screen : Has touch screen or not"
   ]
  },
  {
   "cell_type": "code",
   "execution_count": 96,
   "id": "turkish-floor",
   "metadata": {},
   "outputs": [
    {
     "data": {
      "text/plain": [
       "<AxesSubplot:title={'center':'count (touch_screen)'}>"
      ]
     },
     "execution_count": 96,
     "metadata": {},
     "output_type": "execute_result"
    },
    {
     "data": {
      "image/png": "[encoded data removed]",
      "text/plain": [
       "<Figure size 432x288 with 1 Axes>"
      ]
     },
     "metadata": {
      "needs_background": "light"
     },
     "output_type": "display_data"
    }
   ],
   "source": [
    "TrainData['touch_screen'].value_counts().plot(kind='bar', title='count (touch_screen)')"
   ]
  },
  {
   "cell_type": "code",
   "execution_count": 97,
   "id": "enabling-craft",
   "metadata": {},
   "outputs": [
    {
     "name": "stdout",
     "output_type": "stream",
     "text": [
      "p value 0.27470114180281896\n"
     ]
    }
   ],
   "source": [
    "contigency= pd.crosstab(TrainData['touch_screen'], TrainData['price_range'])\n",
    "contigency\n",
    "c, p, dof, expected = chi2_contingency(contigency)\n",
    "print(\"p value\", p)"
   ]
  },
  {
   "cell_type": "markdown",
   "id": "stone-dress",
   "metadata": {},
   "source": [
    "The p-value is 27.47% which means that we do not reject the null hypothesis at 95% level of confidence. The null hypothesis was that touch_screen and price are independent."
   ]
  },
  {
   "cell_type": "markdown",
   "id": "natural-superintendent",
   "metadata": {},
   "source": [
    "Explore wifi : Has wifi or not"
   ]
  },
  {
   "cell_type": "code",
   "execution_count": 98,
   "id": "twelve-battlefield",
   "metadata": {},
   "outputs": [
    {
     "data": {
      "text/plain": [
       "<AxesSubplot:title={'center':'count (wifi)'}>"
      ]
     },
     "execution_count": 98,
     "metadata": {},
     "output_type": "execute_result"
    },
    {
     "data": {
      "image/png": "[encoded data removed]",
      "text/plain": [
       "<Figure size 432x288 with 1 Axes>"
      ]
     },
     "metadata": {
      "needs_background": "light"
     },
     "output_type": "display_data"
    }
   ],
   "source": [
    "TrainData['wifi'].value_counts().plot(kind='bar', title='count (wifi)')"
   ]
  },
  {
   "cell_type": "code",
   "execution_count": 99,
   "id": "hungarian-barbados",
   "metadata": {},
   "outputs": [
    {
     "name": "stdout",
     "output_type": "stream",
     "text": [
      "P value 0.8359905195342198\n"
     ]
    }
   ],
   "source": [
    "contigency= pd.crosstab(TrainData['wifi'], TrainData['price_range'])\n",
    "contigency\n",
    "c, p, dof, expected = chi2_contingency(contigency)\n",
    "print(\"P value\",p)"
   ]
  },
  {
   "cell_type": "markdown",
   "id": "entertaining-egypt",
   "metadata": {},
   "source": [
    "The p-value is 83.59% which means that we do not reject the null hypothesis at 95% level of confidence. The null hypothesis was that wifi and price are independent."
   ]
  },
  {
   "cell_type": "code",
   "execution_count": null,
   "id": "still-virtue",
   "metadata": {},
   "outputs": [],
   "source": []
  },
  {
   "cell_type": "markdown",
   "id": "substantial-princeton",
   "metadata": {},
   "source": [
    "After observing each column bluetooth, dual_sim, four_g, n_cores, three_g, touch_screen, wifi, Price_range is categorical features in this data"
   ]
  },
  {
   "cell_type": "code",
   "execution_count": 100,
   "id": "warming-above",
   "metadata": {},
   "outputs": [],
   "source": [
    "#Convert categorical in dummies\n",
    "TrainData = pd.get_dummies(TrainData, \n",
    "                     columns = ['blue','dual_sim','four_g', 'three_g','touch_screen', 'wifi'],drop_first=True)"
   ]
  },
  {
   "cell_type": "code",
   "execution_count": 101,
   "id": "according-cologne",
   "metadata": {},
   "outputs": [
    {
     "data": {
      "text/plain": [
       "(2000, 26)"
      ]
     },
     "execution_count": 101,
     "metadata": {},
     "output_type": "execute_result"
    }
   ],
   "source": [
    "TrainData.shape"
   ]
  },
  {
   "cell_type": "code",
   "execution_count": 102,
   "id": "verbal-there",
   "metadata": {},
   "outputs": [
    {
     "data": {
      "text/plain": [
       "Index(['battery_power', 'clock_speed', 'fc', 'int_memory', 'm_dep',\n",
       "       'mobile_wt', 'n_cores', 'pc', 'px_height', 'px_width', 'ram', 'sc_h',\n",
       "       'sc_w', 'talk_time', 'price_range', 'clock_speed_sqrt', 'fc_sqrt',\n",
       "       'm_dep_sqrt', 'px_height_sqrt', 'sc_w_sqrt', 'blue_1', 'dual_sim_1',\n",
       "       'four_g_1', 'three_g_1', 'touch_screen_1', 'wifi_1'],\n",
       "      dtype='object')"
      ]
     },
     "execution_count": 102,
     "metadata": {},
     "output_type": "execute_result"
    }
   ],
   "source": [
    "TrainData.columns"
   ]
  },
  {
   "cell_type": "code",
   "execution_count": 143,
   "id": "coated-pixel",
   "metadata": {},
   "outputs": [],
   "source": [
    "#Segregate the dependent column(y) from the data frame and X is independent column\n",
    "X=TrainData.drop(['price_range', 'fc','m_dep', 'clock_speed', 'px_height', 'sc_w'] ,axis=1)\n",
    "y=TrainData['price_range']"
   ]
  },
  {
   "cell_type": "code",
   "execution_count": 104,
   "id": "detailed-commissioner",
   "metadata": {},
   "outputs": [
    {
     "data": {
      "text/plain": [
       "(2000, 20)"
      ]
     },
     "execution_count": 104,
     "metadata": {},
     "output_type": "execute_result"
    }
   ],
   "source": [
    "X.shape"
   ]
  },
  {
   "cell_type": "markdown",
   "id": "plastic-serum",
   "metadata": {},
   "source": [
    "Fit logistics Regression model "
   ]
  },
  {
   "cell_type": "code",
   "execution_count": 144,
   "id": "challenging-leader",
   "metadata": {},
   "outputs": [],
   "source": [
    "#Split Dataset in training and testing in ratio 70:30 \n",
    "X_train, X_test, y_train, y_test = train_test_split(X, y, test_size=0.3,random_state=0)"
   ]
  },
  {
   "cell_type": "code",
   "execution_count": 145,
   "id": "facial-meeting",
   "metadata": {},
   "outputs": [
    {
     "name": "stderr",
     "output_type": "stream",
     "text": [
      "d:\\a\\cc\\ana\\envs\\insurance\\lib\\site-packages\\sklearn\\linear_model\\_logistic.py:765: ConvergenceWarning: lbfgs failed to converge (status=1):\n",
      "STOP: TOTAL NO. of ITERATIONS REACHED LIMIT.\n",
      "\n",
      "Increase the number of iterations (max_iter) or scale the data as shown in:\n",
      "    https://scikit-learn.org/stable/modules/preprocessing.html\n",
      "Please also refer to the documentation for alternative solver options:\n",
      "    https://scikit-learn.org/stable/modules/linear_model.html#logistic-regression\n",
      "  extra_warning_msg=_LOGISTIC_SOLVER_CONVERGENCE_MSG)\n"
     ]
    },
    {
     "data": {
      "text/plain": [
       "LogisticRegression()"
      ]
     },
     "execution_count": 145,
     "metadata": {},
     "output_type": "execute_result"
    }
   ],
   "source": [
    "#Fit logistic regression\n",
    "logreg = LogisticRegression()\n",
    "logreg.fit(X_train, y_train)"
   ]
  },
  {
   "cell_type": "code",
   "execution_count": 146,
   "id": "familiar-heather",
   "metadata": {},
   "outputs": [
    {
     "name": "stdout",
     "output_type": "stream",
     "text": [
      "Accuracy of logistic regression classifier on train set: 0.64\n",
      "Accuracy of logistic regression classifier on test set: 0.63\n"
     ]
    }
   ],
   "source": [
    "y_pred = logreg.predict(X_test)\n",
    "print('Accuracy of logistic regression classifier on train set: {:.2f}'.format(logreg.score(X_train, y_train)))\n",
    "print('Accuracy of logistic regression classifier on test set: {:.2f}'.format(logreg.score(X_test, y_test)))"
   ]
  },
  {
   "cell_type": "markdown",
   "id": "committed-majority",
   "metadata": {},
   "source": [
    "This is not overfit model but it is underfit model\n"
   ]
  },
  {
   "cell_type": "code",
   "execution_count": 108,
   "id": "dental-limit",
   "metadata": {},
   "outputs": [
    {
     "name": "stdout",
     "output_type": "stream",
     "text": [
      "[[122  29   0   0]\n",
      " [ 29  69  31   6]\n",
      " [  0  36  65  50]\n",
      " [  0   1  41 121]]\n"
     ]
    }
   ],
   "source": [
    "from sklearn.metrics import confusion_matrix\n",
    "confusion_matrix = confusion_matrix(y_test, y_pred)\n",
    "print(confusion_matrix)"
   ]
  },
  {
   "cell_type": "markdown",
   "id": "difficult-publisher",
   "metadata": {},
   "source": [
    "K-fold cross validation"
   ]
  },
  {
   "cell_type": "code",
   "execution_count": 109,
   "id": "upset-gauge",
   "metadata": {},
   "outputs": [
    {
     "name": "stdout",
     "output_type": "stream",
     "text": [
      "Accuracy: 0.628 (0.027)\n"
     ]
    }
   ],
   "source": [
    "cv = KFold(n_splits=10, random_state=1, shuffle=True)\n",
    "# create model\n",
    "model = LogisticRegression()\n",
    "# evaluate model\n",
    "scores = cross_val_score(model, X, y, scoring='accuracy', cv=cv, n_jobs=-1)\n",
    "# report performance\n",
    "print('Accuracy: %.3f (%.3f)' % (mean(scores), std(scores)))"
   ]
  },
  {
   "cell_type": "markdown",
   "id": "valued-vietnam",
   "metadata": {},
   "source": [
    "Lets standardised data and fit logistics regression"
   ]
  },
  {
   "cell_type": "code",
   "execution_count": 148,
   "id": "overall-victory",
   "metadata": {},
   "outputs": [],
   "source": [
    "from sklearn.preprocessing import StandardScaler\n",
    "sc=StandardScaler()\n",
    "X_train=sc.fit_transform(X_train)\n",
    "X_test=sc.fit_transform(X_test)"
   ]
  },
  {
   "cell_type": "code",
   "execution_count": 111,
   "id": "southwest-novel",
   "metadata": {},
   "outputs": [
    {
     "data": {
      "text/plain": [
       "LogisticRegression()"
      ]
     },
     "execution_count": 111,
     "metadata": {},
     "output_type": "execute_result"
    }
   ],
   "source": [
    "logreg = LogisticRegression()\n",
    "logreg.fit(X_train, y_train)"
   ]
  },
  {
   "cell_type": "code",
   "execution_count": 112,
   "id": "expected-guest",
   "metadata": {},
   "outputs": [
    {
     "name": "stdout",
     "output_type": "stream",
     "text": [
      "Accuracy of logistic regression classifier on train set: 0.97\n",
      "Accuracy of logistic regression classifier on test set: 0.93\n"
     ]
    }
   ],
   "source": [
    "y_pred = logreg.predict(X_test)\n",
    "print('Accuracy of logistic regression classifier on train set: {:.2f}'.format(logreg.score(X_train, y_train)))\n",
    "print('Accuracy of logistic regression classifier on test set: {:.2f}'.format(logreg.score(X_test, y_test)))"
   ]
  },
  {
   "cell_type": "markdown",
   "id": "satisfied-server",
   "metadata": {},
   "source": [
    "This is good model neither overfit nor underfit.accuracy for training dataset is 97% and for testing it is 93%"
   ]
  },
  {
   "cell_type": "code",
   "execution_count": 140,
   "id": "legendary-plaintiff",
   "metadata": {},
   "outputs": [
    {
     "data": {
      "image/png": "[encoded data removed]",
      "text/plain": [
       "<Figure size 432x288 with 2 Axes>"
      ]
     },
     "metadata": {
      "needs_background": "light"
     },
     "output_type": "display_data"
    }
   ],
   "source": [
    "from sklearn.metrics import plot_confusion_matrix\n",
    "# Generate confusion matrix\n",
    "matrix = plot_confusion_matrix(logreg, X_test, y_test,\n",
    "                                 cmap=plt.cm.Blues)\n",
    "plt.title('Confusion matrix for our classifier')\n",
    "plt.show(matrix)\n",
    "plt.show()"
   ]
  },
  {
   "cell_type": "code",
   "execution_count": 114,
   "id": "taken-marks",
   "metadata": {},
   "outputs": [
    {
     "name": "stdout",
     "output_type": "stream",
     "text": [
      "Accuracy: 93.17%\n",
      "F1 score: 93.17%\n"
     ]
    }
   ],
   "source": [
    "accuracy = accuracy_score(y_test, y_pred)\n",
    "print(\"Accuracy: %.2f%%\" % (accuracy * 100.0))\n",
    "print('F1 score: %.2f%%' % (f1_score(y_test, y_pred, average='micro')*100))"
   ]
  },
  {
   "cell_type": "code",
   "execution_count": 116,
   "id": "fatal-beaver",
   "metadata": {},
   "outputs": [
    {
     "name": "stdout",
     "output_type": "stream",
     "text": [
      "Accuracy: 0.949 (0.017)\n"
     ]
    }
   ],
   "source": [
    "cv = KFold(n_splits=10, random_state=1, shuffle=True)\n",
    "# create model\n",
    "model = LogisticRegression()\n",
    "# evaluate model\n",
    "scores = cross_val_score(model, X_train, y_train, scoring='accuracy', cv=cv, n_jobs=-1)\n",
    "# report performance\n",
    "print('Accuracy: %.3f (%.3f)' % (mean(scores), std(scores)))"
   ]
  },
  {
   "cell_type": "markdown",
   "id": "accurate-andorra",
   "metadata": {},
   "source": [
    "Lets build model for Random Forest Classifier"
   ]
  },
  {
   "cell_type": "code",
   "execution_count": null,
   "id": "sustained-eagle",
   "metadata": {},
   "outputs": [],
   "source": [
    "#Split Dataset in training and testing in ratio 70:30 \n",
    "X_train, X_test, y_train, y_test = train_test_split(X, y, test_size=0.3,random_state=0)"
   ]
  },
  {
   "cell_type": "code",
   "execution_count": 149,
   "id": "boring-attempt",
   "metadata": {},
   "outputs": [
    {
     "name": "stdout",
     "output_type": "stream",
     "text": [
      "Accuracy of logistic regression classifier on train set: 1.00\n",
      "Accuracy of logistic regression classifier on test set: 0.88\n",
      "Accuracy: 87.50%\n",
      "F1 score: 87.50%\n"
     ]
    }
   ],
   "source": [
    "# instantiate the classifier with n_estimators = 100\n",
    "from sklearn.ensemble import RandomForestClassifier\n",
    "rfc_100 = RandomForestClassifier(n_estimators=1000, random_state=42)\n",
    "rfc_100.fit(X_train, y_train)\n",
    "y_pred = rfc_100.predict(X_test)\n",
    "\n",
    "print('Accuracy of Random Forest classifier on train set: {:.2f}'.format(rfc_100.score(X_train, y_train)))\n",
    "print('Accuracy of Random Forest classifier on test set: {:.2f}'.format(rfc_100.score(X_test, y_test)))\n",
    "\n",
    "accuracy = accuracy_score(y_test, y_pred)\n",
    "print(\"Accuracy: %.2f%%\" % (accuracy * 100.0))\n",
    "print('F1 score: %.2f%%' % (f1_score(y_test, y_pred, average='micro')*100))"
   ]
  },
  {
   "cell_type": "code",
   "execution_count": null,
   "id": "governmental-rwanda",
   "metadata": {},
   "outputs": [],
   "source": [
    "from sklearn.preprocessing import StandardScaler\n",
    "sc=StandardScaler()\n",
    "X_train=sc.fit_transform(X_train)\n",
    "X_test=sc.fit_transform(X_test)"
   ]
  },
  {
   "cell_type": "code",
   "execution_count": null,
   "id": "powerful-newfoundland",
   "metadata": {},
   "outputs": [],
   "source": [
    "# instantiate the classifier with n_estimators = 100\n",
    "from sklearn.ensemble import RandomForestClassifier\n",
    "rfc_100 = RandomForestClassifier(n_estimators=1000, random_state=42)\n",
    "rfc_100.fit(X_train, y_train)\n",
    "y_pred = rfc_100.predict(X_test)\n",
    "\n",
    "print('Accuracy of Random Forest classifier on train set: {:.2f}'.format(rfc_100.score(X_train, y_train)))\n",
    "print('Accuracy of Random Forest classifier on test set: {:.2f}'.format(rfc_100.score(X_test, y_test)))\n",
    "\n",
    "accuracy = accuracy_score(y_test, y_pred)\n",
    "print(\"Accuracy: %.2f%%\" % (accuracy * 100.0))\n",
    "print('F1 score: %.2f%%' % (f1_score(y_test, y_pred, average='micro')*100))"
   ]
  },
  {
   "cell_type": "markdown",
   "id": "generic-branch",
   "metadata": {},
   "source": [
    "Hyper parameter tuning for random forest classifier"
   ]
  },
  {
   "cell_type": "code",
   "execution_count": 130,
   "id": "alien-documentation",
   "metadata": {},
   "outputs": [
    {
     "name": "stdout",
     "output_type": "stream",
     "text": [
      "{'n_estimators': [200, 400, 600, 800, 1000, 1200, 1400, 1600, 1800, 2000], 'max_features': ['auto', 'sqrt'], 'max_depth': [10, 20, 30, 40, 50, 60, 70, 80, 90, 100, 110, None], 'min_samples_split': [2, 5, 10], 'min_samples_leaf': [1, 2, 4], 'bootstrap': [True, False]}\n"
     ]
    }
   ],
   "source": [
    "from sklearn.model_selection import RandomizedSearchCV\n",
    "import pprint\n",
    "# Number of trees in random forest\n",
    "n_estimators = [int(x) for x in np.linspace(start = 200, stop = 2000, num = 10)]\n",
    "# Number of features to consider at every split\n",
    "max_features = ['auto', 'sqrt']\n",
    "# Maximum number of levels in tree\n",
    "max_depth = [int(x) for x in np.linspace(10, 110, num = 11)]\n",
    "max_depth.append(None)\n",
    "# Minimum number of samples required to split a node\n",
    "min_samples_split = [2, 5, 10]\n",
    "# Minimum number of samples required at each leaf node\n",
    "min_samples_leaf = [1, 2, 4]\n",
    "# Method of selecting samples for training each tree\n",
    "bootstrap = [True, False]\n",
    "# Create the random grid\n",
    "random_grid = {'n_estimators': n_estimators,\n",
    "               'max_features': max_features,\n",
    "               'max_depth': max_depth,\n",
    "               'min_samples_split': min_samples_split,\n",
    "               'min_samples_leaf': min_samples_leaf,\n",
    "               'bootstrap': bootstrap}\n",
    "print(random_grid)"
   ]
  },
  {
   "cell_type": "code",
   "execution_count": 132,
   "id": "spectacular-smell",
   "metadata": {},
   "outputs": [
    {
     "name": "stdout",
     "output_type": "stream",
     "text": [
      "Fitting 3 folds for each of 100 candidates, totalling 300 fits\n"
     ]
    },
    {
     "data": {
      "text/plain": [
       "RandomizedSearchCV(cv=3, estimator=RandomForestClassifier(), n_iter=100,\n",
       "                   n_jobs=-1,\n",
       "                   param_distributions={'bootstrap': [True, False],\n",
       "                                        'max_depth': [10, 20, 30, 40, 50, 60,\n",
       "                                                      70, 80, 90, 100, 110,\n",
       "                                                      None],\n",
       "                                        'max_features': ['auto', 'sqrt'],\n",
       "                                        'min_samples_leaf': [1, 2, 4],\n",
       "                                        'min_samples_split': [2, 5, 10],\n",
       "                                        'n_estimators': [200, 400, 600, 800,\n",
       "                                                         1000, 1200, 1400, 1600,\n",
       "                                                         1800, 2000]},\n",
       "                   random_state=42, verbose=2)"
      ]
     },
     "execution_count": 132,
     "metadata": {},
     "output_type": "execute_result"
    }
   ],
   "source": [
    "# Use the random grid to search for best hyperparameters\n",
    "# First create the base model to tune\n",
    "rf = RandomForestClassifier()\n",
    "# Random search of parameters, using 3 fold cross validation, \n",
    "# search across 100 different combinations, and use all available cores\n",
    "rf_random = RandomizedSearchCV(estimator = rf, param_distributions = random_grid, n_iter = 100, cv = 3, verbose=2, random_state=42, n_jobs = -1)\n",
    "# Fit the random search model\n",
    "rf_random.fit(X_train, y_train)"
   ]
  },
  {
   "cell_type": "code",
   "execution_count": 134,
   "id": "civic-belize",
   "metadata": {},
   "outputs": [
    {
     "data": {
      "text/plain": [
       "{'n_estimators': 400,\n",
       " 'min_samples_split': 5,\n",
       " 'min_samples_leaf': 1,\n",
       " 'max_features': 'sqrt',\n",
       " 'max_depth': 100,\n",
       " 'bootstrap': True}"
      ]
     },
     "execution_count": 134,
     "metadata": {},
     "output_type": "execute_result"
    }
   ],
   "source": [
    "rf_random.best_params_"
   ]
  },
  {
   "cell_type": "markdown",
   "id": "dutch-nirvana",
   "metadata": {},
   "source": [
    "Lets build XGBoost classifier"
   ]
  },
  {
   "cell_type": "code",
   "execution_count": 152,
   "id": "satisfactory-source",
   "metadata": {},
   "outputs": [],
   "source": [
    "#Split Dataset in training and testing in ratio 70:30 \n",
    "X_train, X_test, y_train, y_test = train_test_split(X, y, test_size=0.3,random_state=0)"
   ]
  },
  {
   "cell_type": "code",
   "execution_count": 153,
   "id": "marked-artwork",
   "metadata": {},
   "outputs": [
    {
     "name": "stderr",
     "output_type": "stream",
     "text": [
      "d:\\a\\cc\\ana\\envs\\insurance\\lib\\site-packages\\xgboost\\sklearn.py:888: UserWarning: The use of label encoder in XGBClassifier is deprecated and will be removed in a future release. To remove this warning, do the following: 1) Pass option use_label_encoder=False when constructing XGBClassifier object; and 2) Encode your labels (y) as integers starting with 0, i.e. 0, 1, 2, ..., [num_class - 1].\n",
      "  warnings.warn(label_encoder_deprecation_msg, UserWarning)\n"
     ]
    },
    {
     "name": "stdout",
     "output_type": "stream",
     "text": [
      "[11:55:51] WARNING: C:/Users/Administrator/workspace/xgboost-win64_release_1.3.0/src/gbm/gbtree.cc:81: DANGER AHEAD: You have manually specified `updater` parameter. The `tree_method` parameter will be ignored. Incorrect sequence of updaters will produce undefined behavior. For common uses, we recommend using `tree_method` parameter instead.\n",
      "[11:55:51] WARNING: C:/Users/Administrator/workspace/xgboost-win64_release_1.3.0/src/learner.cc:541: \n",
      "Parameters: { scale_pos_weight } might not be used.\n",
      "\n",
      "  This may not be accurate due to some parameters are only used in language bindings but\n",
      "  passed down to XGBoost core.  Or some parameters are not used but slip through this\n",
      "  verification. Please open an issue if you find above cases.\n",
      "\n",
      "\n",
      "[11:55:51] WARNING: C:/Users/Administrator/workspace/xgboost-win64_release_1.3.0/src/learner.cc:1061: Starting in XGBoost 1.3.0, the default evaluation metric used with the objective 'multi:softprob' was changed from 'merror' to 'mlogloss'. Explicitly set eval_metric if you'd like to restore the old behavior.\n",
      "Accuracy of Xgboost classifier on train set: 1.00\n",
      "Accuracy of Xgboost  classifier on test set: 0.92\n",
      "Accuracy: 92.33%\n",
      "F1 score: 92.33%\n"
     ]
    }
   ],
   "source": [
    "from xgboost import XGBClassifier\n",
    "from sklearn.model_selection import train_test_split\n",
    "from sklearn.metrics import accuracy_score\n",
    "\n",
    "model=XGBClassifier( learning_rate =0.1, n_estimators=494, max_depth=5,subsample = 0.70, \n",
    "                                                              scale_pos_weight = 2.5,updater =\"grow_histmaker\",base_score  = 0.2,\n",
    "                                                              )\n",
    "model.fit(X_train, y_train)\n",
    "y_pred = model.predict(X_test)\n",
    "#accuracy_score(X_train, y_train)\n",
    "\n",
    "print('Accuracy of Xgboost classifier on train set: {:.2f}'.format(model.score(X_train, y_train)))\n",
    "print('Accuracy of Xgboost  classifier on test set: {:.2f}'.format(model.score(X_test, y_test)))\n",
    "\n",
    "accuracy = accuracy_score(y_test, y_pred)\n",
    "print(\"Accuracy: %.2f%%\" % (accuracy * 100.0))\n",
    "print('F1 score: %.2f%%' % (f1_score(y_test, y_pred, average='micro')*100))"
   ]
  },
  {
   "cell_type": "code",
   "execution_count": 154,
   "id": "hundred-moscow",
   "metadata": {},
   "outputs": [],
   "source": [
    "from sklearn.preprocessing import StandardScaler\n",
    "sc=StandardScaler()\n",
    "X_train=sc.fit_transform(X_train)\n",
    "X_test=sc.fit_transform(X_test)"
   ]
  },
  {
   "cell_type": "code",
   "execution_count": 155,
   "id": "competitive-isolation",
   "metadata": {},
   "outputs": [
    {
     "name": "stderr",
     "output_type": "stream",
     "text": [
      "d:\\a\\cc\\ana\\envs\\insurance\\lib\\site-packages\\xgboost\\sklearn.py:888: UserWarning: The use of label encoder in XGBClassifier is deprecated and will be removed in a future release. To remove this warning, do the following: 1) Pass option use_label_encoder=False when constructing XGBClassifier object; and 2) Encode your labels (y) as integers starting with 0, i.e. 0, 1, 2, ..., [num_class - 1].\n",
      "  warnings.warn(label_encoder_deprecation_msg, UserWarning)\n"
     ]
    },
    {
     "name": "stdout",
     "output_type": "stream",
     "text": [
      "[11:58:36] WARNING: C:/Users/Administrator/workspace/xgboost-win64_release_1.3.0/src/gbm/gbtree.cc:81: DANGER AHEAD: You have manually specified `updater` parameter. The `tree_method` parameter will be ignored. Incorrect sequence of updaters will produce undefined behavior. For common uses, we recommend using `tree_method` parameter instead.\n",
      "[11:58:36] WARNING: C:/Users/Administrator/workspace/xgboost-win64_release_1.3.0/src/learner.cc:541: \n",
      "Parameters: { scale_pos_weight } might not be used.\n",
      "\n",
      "  This may not be accurate due to some parameters are only used in language bindings but\n",
      "  passed down to XGBoost core.  Or some parameters are not used but slip through this\n",
      "  verification. Please open an issue if you find above cases.\n",
      "\n",
      "\n",
      "[11:58:36] WARNING: C:/Users/Administrator/workspace/xgboost-win64_release_1.3.0/src/learner.cc:1061: Starting in XGBoost 1.3.0, the default evaluation metric used with the objective 'multi:softprob' was changed from 'merror' to 'mlogloss'. Explicitly set eval_metric if you'd like to restore the old behavior.\n",
      "Accuracy of Xgboost classifier on train set: 1.00\n",
      "Accuracy of Xgboost  classifier on test set: 0.91\n",
      "Accuracy: 91.33%\n",
      "F1 score: 91.33%\n"
     ]
    }
   ],
   "source": [
    "from xgboost import XGBClassifier\n",
    "from sklearn.model_selection import train_test_split\n",
    "from sklearn.metrics import accuracy_score\n",
    "\n",
    "model=XGBClassifier( learning_rate =0.1, n_estimators=494, max_depth=5,subsample = 0.70, \n",
    "                                                              scale_pos_weight = 2.5,updater =\"grow_histmaker\",base_score  = 0.2,\n",
    "                                                              )\n",
    "model.fit(X_train, y_train)\n",
    "y_pred = model.predict(X_test)\n",
    "#accuracy_score(X_train, y_train)\n",
    "\n",
    "print('Accuracy of Xgboost classifier on train set: {:.2f}'.format(model.score(X_train, y_train)))\n",
    "print('Accuracy of Xgboost  classifier on test set: {:.2f}'.format(model.score(X_test, y_test)))\n",
    "\n",
    "accuracy = accuracy_score(y_test, y_pred)\n",
    "print(\"Accuracy: %.2f%%\" % (accuracy * 100.0))\n",
    "print('F1 score: %.2f%%' % (f1_score(y_test, y_pred, average='micro')*100))"
   ]
  },
  {
   "cell_type": "code",
   "execution_count": null,
   "id": "favorite-muslim",
   "metadata": {},
   "outputs": [],
   "source": []
  }
 ],
 "metadata": {
  "kernelspec": {
   "display_name": "Python 3",
   "language": "python",
   "name": "python3"
  },
  "language_info": {
   "codemirror_mode": {
    "name": "ipython",
    "version": 3
   },
   "file_extension": ".py",
   "mimetype": "text/x-python",
   "name": "python",
   "nbconvert_exporter": "python",
   "pygments_lexer": "ipython3",
   "version": "3.6.12"
  }
 },
 "nbformat": 4,
 "nbformat_minor": 5
}
